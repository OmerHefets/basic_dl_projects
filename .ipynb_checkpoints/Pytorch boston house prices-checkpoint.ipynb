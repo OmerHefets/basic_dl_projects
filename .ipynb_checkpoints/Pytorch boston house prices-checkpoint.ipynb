{
 "cells": [
  {
   "cell_type": "markdown",
   "metadata": {},
   "source": [
    "## Import Libraries"
   ]
  },
  {
   "cell_type": "code",
   "execution_count": 367,
   "metadata": {},
   "outputs": [],
   "source": [
    "import torch\n",
    "import torch.utils.data\n",
    "import torch.nn.functional as F\n",
    "import numpy as np\n",
    "import pandas as pd\n",
    "import matplotlib.pyplot as plt\n",
    "%run utils.ipynb\n",
    "from sklearn.datasets import load_boston\n",
    "from sklearn.model_selection import train_test_split"
   ]
  },
  {
   "cell_type": "markdown",
   "metadata": {},
   "source": [
    "## Load model"
   ]
  },
  {
   "cell_type": "code",
   "execution_count": 368,
   "metadata": {},
   "outputs": [],
   "source": [
    "boston_data = load_boston(return_X_y=False)"
   ]
  },
  {
   "cell_type": "code",
   "execution_count": 369,
   "metadata": {},
   "outputs": [
    {
     "name": "stdout",
     "output_type": "stream",
     "text": [
      "Model filename: C:\\Users\\Administrator\\anaconda3\\envs\\omertorch\\lib\\site-packages\\sklearn\\datasets\\data\\boston_house_prices.csv\n"
     ]
    }
   ],
   "source": [
    "print(\"Model filename: \" + boston_data.filename)"
   ]
  },
  {
   "cell_type": "code",
   "execution_count": 370,
   "metadata": {},
   "outputs": [],
   "source": [
    "m = boston_data.data.shape[0]"
   ]
  },
  {
   "cell_type": "code",
   "execution_count": 371,
   "metadata": {},
   "outputs": [],
   "source": [
    "X = boston_data.data\n",
    "y = boston_data.target.reshape(m, -1)"
   ]
  },
  {
   "cell_type": "code",
   "execution_count": 372,
   "metadata": {},
   "outputs": [
    {
     "name": "stdout",
     "output_type": "stream",
     "text": [
      "Input shape is: (506, 13)\n",
      "Output shape is: (506, 1)\n"
     ]
    }
   ],
   "source": [
    "print(\"Input shape is: \" + str(X.shape))\n",
    "print(\"Output shape is: \" + str(y.shape))"
   ]
  },
  {
   "cell_type": "markdown",
   "metadata": {},
   "source": [
    "## Split train-dev-test sets"
   ]
  },
  {
   "cell_type": "code",
   "execution_count": 373,
   "metadata": {},
   "outputs": [],
   "source": [
    "random_seed = 43\n",
    "X_train_and_dev, X_test, y_train_and_dev, y_test = train_test_split(X, y, test_size=0.2, random_state=random_seed)\n",
    "X_train, X_dev, y_train, y_dev = train_test_split(X_train_and_dev, y_train_and_dev, test_size=0.25, random_state=random_seed)"
   ]
  },
  {
   "cell_type": "markdown",
   "metadata": {},
   "source": [
    "Convert to Pandas Data Frames:"
   ]
  },
  {
   "cell_type": "code",
   "execution_count": 374,
   "metadata": {},
   "outputs": [],
   "source": [
    "X_train = pd.DataFrame(data=X_train, columns=boston_data.feature_names)\n",
    "X_dev = pd.DataFrame(data=X_dev, columns=boston_data.feature_names)\n",
    "X_test = pd.DataFrame(data=X_test, columns=boston_data.feature_names)\n",
    "y_train = pd.DataFrame(data=y_train, columns=[\"House price\"])\n",
    "y_dev = pd.DataFrame(data=y_dev, columns=[\"House price\"])\n",
    "y_test = pd.DataFrame(data=y_test, columns=[\"House price\"])"
   ]
  },
  {
   "cell_type": "code",
   "execution_count": 375,
   "metadata": {},
   "outputs": [
    {
     "name": "stdout",
     "output_type": "stream",
     "text": [
      "Train set size: (303, 13)\n",
      "Dev set size: \t(101, 13)\n",
      "Test set size: \t(102, 13)\n"
     ]
    }
   ],
   "source": [
    "print(\"Train set size: \" + str(X_train.shape))\n",
    "print(\"Dev set size: \\t\" + str(X_dev.shape))\n",
    "print(\"Test set size: \\t\" + str(X_test.shape))"
   ]
  },
  {
   "cell_type": "markdown",
   "metadata": {},
   "source": [
    "## Explore the data"
   ]
  },
  {
   "cell_type": "code",
   "execution_count": 376,
   "metadata": {},
   "outputs": [
    {
     "name": "stdout",
     "output_type": "stream",
     "text": [
      ".. _boston_dataset:\n",
      "\n",
      "Boston house prices dataset\n",
      "---------------------------\n",
      "\n",
      "**Data Set Characteristics:**  \n",
      "\n",
      "    :Number of Instances: 506 \n",
      "\n",
      "    :Number of Attributes: 13 numeric/categorical predictive. Median Value (attribute 14) is usually the target.\n",
      "\n",
      "    :Attribute Information (in order):\n",
      "        - CRIM     per capita crime rate by town\n",
      "        - ZN       proportion of residential land zoned for lots over 25,000 sq.ft.\n",
      "        - INDUS    proportion of non-retail business acres per town\n",
      "        - CHAS     Charles River dummy variable (= 1 if tract bounds river; 0 otherwise)\n",
      "        - NOX      nitric oxides concentration (parts per 10 million)\n",
      "        - RM       average number of rooms per dwelling\n",
      "        - AGE      proportion of owner-occupied units built prior to 1940\n",
      "        - DIS      weighted distances to five Boston employment centres\n",
      "        - RAD      index of accessibility to radial highways\n",
      "        - TAX      full-value property-tax rate per $10,000\n",
      "        - PTRATIO  pupil-teacher ratio by town\n",
      "        - B        1000(Bk - 0.63)^2 where Bk is the proportion of blacks by town\n",
      "        - LSTAT    % lower status of the population\n",
      "        - MEDV     Median value of owner-occupied homes in $1000's\n",
      "\n",
      "    :Missing Attribute Values: None\n",
      "\n",
      "    :Creator: Harrison, D. and Rubinfeld, D.L.\n",
      "\n",
      "This is a copy of UCI ML housing dataset.\n",
      "https://archive.ics.uci.edu/ml/machine-learning-databases/housing/\n",
      "\n",
      "\n",
      "This dataset was taken from the StatLib library which is maintained at Carnegie Mellon University.\n",
      "\n",
      "The Boston house-price data of Harrison, D. and Rubinfeld, D.L. 'Hedonic\n",
      "prices and the demand for clean air', J. Environ. Economics & Management,\n",
      "vol.5, 81-102, 1978.   Used in Belsley, Kuh & Welsch, 'Regression diagnostics\n",
      "...', Wiley, 1980.   N.B. Various transformations are used in the table on\n",
      "pages 244-261 of the latter.\n",
      "\n",
      "The Boston house-price data has been used in many machine learning papers that address regression\n",
      "problems.   \n",
      "     \n",
      ".. topic:: References\n",
      "\n",
      "   - Belsley, Kuh & Welsch, 'Regression diagnostics: Identifying Influential Data and Sources of Collinearity', Wiley, 1980. 244-261.\n",
      "   - Quinlan,R. (1993). Combining Instance-Based and Model-Based Learning. In Proceedings on the Tenth International Conference of Machine Learning, 236-243, University of Massachusetts, Amherst. Morgan Kaufmann.\n",
      "\n"
     ]
    }
   ],
   "source": [
    "print(boston_data.DESCR)"
   ]
  },
  {
   "cell_type": "markdown",
   "metadata": {},
   "source": [
    "### Explore the inputs (x)"
   ]
  },
  {
   "cell_type": "code",
   "execution_count": 377,
   "metadata": {},
   "outputs": [
    {
     "data": {
      "text/html": [
       "<div>\n",
       "<style scoped>\n",
       "    .dataframe tbody tr th:only-of-type {\n",
       "        vertical-align: middle;\n",
       "    }\n",
       "\n",
       "    .dataframe tbody tr th {\n",
       "        vertical-align: top;\n",
       "    }\n",
       "\n",
       "    .dataframe thead th {\n",
       "        text-align: right;\n",
       "    }\n",
       "</style>\n",
       "<table border=\"1\" class=\"dataframe\">\n",
       "  <thead>\n",
       "    <tr style=\"text-align: right;\">\n",
       "      <th></th>\n",
       "      <th>CRIM</th>\n",
       "      <th>ZN</th>\n",
       "      <th>INDUS</th>\n",
       "      <th>CHAS</th>\n",
       "      <th>NOX</th>\n",
       "      <th>RM</th>\n",
       "      <th>AGE</th>\n",
       "      <th>DIS</th>\n",
       "      <th>RAD</th>\n",
       "      <th>TAX</th>\n",
       "      <th>PTRATIO</th>\n",
       "      <th>B</th>\n",
       "      <th>LSTAT</th>\n",
       "    </tr>\n",
       "  </thead>\n",
       "  <tbody>\n",
       "    <tr>\n",
       "      <th>0</th>\n",
       "      <td>45.74610</td>\n",
       "      <td>0.0</td>\n",
       "      <td>18.10</td>\n",
       "      <td>0.0</td>\n",
       "      <td>0.693</td>\n",
       "      <td>4.519</td>\n",
       "      <td>100.0</td>\n",
       "      <td>1.6582</td>\n",
       "      <td>24.0</td>\n",
       "      <td>666.0</td>\n",
       "      <td>20.2</td>\n",
       "      <td>88.27</td>\n",
       "      <td>36.98</td>\n",
       "    </tr>\n",
       "    <tr>\n",
       "      <th>1</th>\n",
       "      <td>0.19073</td>\n",
       "      <td>22.0</td>\n",
       "      <td>5.86</td>\n",
       "      <td>0.0</td>\n",
       "      <td>0.431</td>\n",
       "      <td>6.718</td>\n",
       "      <td>17.5</td>\n",
       "      <td>7.8265</td>\n",
       "      <td>7.0</td>\n",
       "      <td>330.0</td>\n",
       "      <td>19.1</td>\n",
       "      <td>393.74</td>\n",
       "      <td>6.56</td>\n",
       "    </tr>\n",
       "    <tr>\n",
       "      <th>2</th>\n",
       "      <td>0.00632</td>\n",
       "      <td>18.0</td>\n",
       "      <td>2.31</td>\n",
       "      <td>0.0</td>\n",
       "      <td>0.538</td>\n",
       "      <td>6.575</td>\n",
       "      <td>65.2</td>\n",
       "      <td>4.0900</td>\n",
       "      <td>1.0</td>\n",
       "      <td>296.0</td>\n",
       "      <td>15.3</td>\n",
       "      <td>396.90</td>\n",
       "      <td>4.98</td>\n",
       "    </tr>\n",
       "    <tr>\n",
       "      <th>3</th>\n",
       "      <td>0.05083</td>\n",
       "      <td>0.0</td>\n",
       "      <td>5.19</td>\n",
       "      <td>0.0</td>\n",
       "      <td>0.515</td>\n",
       "      <td>6.316</td>\n",
       "      <td>38.1</td>\n",
       "      <td>6.4584</td>\n",
       "      <td>5.0</td>\n",
       "      <td>224.0</td>\n",
       "      <td>20.2</td>\n",
       "      <td>389.71</td>\n",
       "      <td>5.68</td>\n",
       "    </tr>\n",
       "    <tr>\n",
       "      <th>4</th>\n",
       "      <td>0.14866</td>\n",
       "      <td>0.0</td>\n",
       "      <td>8.56</td>\n",
       "      <td>0.0</td>\n",
       "      <td>0.520</td>\n",
       "      <td>6.727</td>\n",
       "      <td>79.9</td>\n",
       "      <td>2.7778</td>\n",
       "      <td>5.0</td>\n",
       "      <td>384.0</td>\n",
       "      <td>20.9</td>\n",
       "      <td>394.76</td>\n",
       "      <td>9.42</td>\n",
       "    </tr>\n",
       "  </tbody>\n",
       "</table>\n",
       "</div>"
      ],
      "text/plain": [
       "       CRIM    ZN  INDUS  CHAS    NOX     RM    AGE     DIS   RAD    TAX  \\\n",
       "0  45.74610   0.0  18.10   0.0  0.693  4.519  100.0  1.6582  24.0  666.0   \n",
       "1   0.19073  22.0   5.86   0.0  0.431  6.718   17.5  7.8265   7.0  330.0   \n",
       "2   0.00632  18.0   2.31   0.0  0.538  6.575   65.2  4.0900   1.0  296.0   \n",
       "3   0.05083   0.0   5.19   0.0  0.515  6.316   38.1  6.4584   5.0  224.0   \n",
       "4   0.14866   0.0   8.56   0.0  0.520  6.727   79.9  2.7778   5.0  384.0   \n",
       "\n",
       "   PTRATIO       B  LSTAT  \n",
       "0     20.2   88.27  36.98  \n",
       "1     19.1  393.74   6.56  \n",
       "2     15.3  396.90   4.98  \n",
       "3     20.2  389.71   5.68  \n",
       "4     20.9  394.76   9.42  "
      ]
     },
     "execution_count": 377,
     "metadata": {},
     "output_type": "execute_result"
    }
   ],
   "source": [
    "X_train.head()"
   ]
  },
  {
   "cell_type": "code",
   "execution_count": 378,
   "metadata": {},
   "outputs": [
    {
     "name": "stdout",
     "output_type": "stream",
     "text": [
      "<class 'pandas.core.frame.DataFrame'>\n",
      "RangeIndex: 303 entries, 0 to 302\n",
      "Data columns (total 13 columns):\n",
      " #   Column   Non-Null Count  Dtype  \n",
      "---  ------   --------------  -----  \n",
      " 0   CRIM     303 non-null    float64\n",
      " 1   ZN       303 non-null    float64\n",
      " 2   INDUS    303 non-null    float64\n",
      " 3   CHAS     303 non-null    float64\n",
      " 4   NOX      303 non-null    float64\n",
      " 5   RM       303 non-null    float64\n",
      " 6   AGE      303 non-null    float64\n",
      " 7   DIS      303 non-null    float64\n",
      " 8   RAD      303 non-null    float64\n",
      " 9   TAX      303 non-null    float64\n",
      " 10  PTRATIO  303 non-null    float64\n",
      " 11  B        303 non-null    float64\n",
      " 12  LSTAT    303 non-null    float64\n",
      "dtypes: float64(13)\n",
      "memory usage: 30.9 KB\n"
     ]
    }
   ],
   "source": [
    "X_train.info()"
   ]
  },
  {
   "cell_type": "code",
   "execution_count": 379,
   "metadata": {},
   "outputs": [
    {
     "data": {
      "text/html": [
       "<div>\n",
       "<style scoped>\n",
       "    .dataframe tbody tr th:only-of-type {\n",
       "        vertical-align: middle;\n",
       "    }\n",
       "\n",
       "    .dataframe tbody tr th {\n",
       "        vertical-align: top;\n",
       "    }\n",
       "\n",
       "    .dataframe thead th {\n",
       "        text-align: right;\n",
       "    }\n",
       "</style>\n",
       "<table border=\"1\" class=\"dataframe\">\n",
       "  <thead>\n",
       "    <tr style=\"text-align: right;\">\n",
       "      <th></th>\n",
       "      <th>CRIM</th>\n",
       "      <th>ZN</th>\n",
       "      <th>INDUS</th>\n",
       "      <th>CHAS</th>\n",
       "      <th>NOX</th>\n",
       "      <th>RM</th>\n",
       "      <th>AGE</th>\n",
       "      <th>DIS</th>\n",
       "      <th>RAD</th>\n",
       "      <th>TAX</th>\n",
       "      <th>PTRATIO</th>\n",
       "      <th>B</th>\n",
       "      <th>LSTAT</th>\n",
       "    </tr>\n",
       "  </thead>\n",
       "  <tbody>\n",
       "    <tr>\n",
       "      <th>count</th>\n",
       "      <td>303.000000</td>\n",
       "      <td>303.000000</td>\n",
       "      <td>303.000000</td>\n",
       "      <td>303.000000</td>\n",
       "      <td>303.000000</td>\n",
       "      <td>303.000000</td>\n",
       "      <td>303.000000</td>\n",
       "      <td>303.000000</td>\n",
       "      <td>303.000000</td>\n",
       "      <td>303.000000</td>\n",
       "      <td>303.000000</td>\n",
       "      <td>303.000000</td>\n",
       "      <td>303.000000</td>\n",
       "    </tr>\n",
       "    <tr>\n",
       "      <th>mean</th>\n",
       "      <td>3.072186</td>\n",
       "      <td>11.490099</td>\n",
       "      <td>10.950660</td>\n",
       "      <td>0.062706</td>\n",
       "      <td>0.551323</td>\n",
       "      <td>6.267208</td>\n",
       "      <td>67.048845</td>\n",
       "      <td>3.844638</td>\n",
       "      <td>9.306931</td>\n",
       "      <td>403.584158</td>\n",
       "      <td>18.461716</td>\n",
       "      <td>356.533696</td>\n",
       "      <td>12.289142</td>\n",
       "    </tr>\n",
       "    <tr>\n",
       "      <th>std</th>\n",
       "      <td>6.896973</td>\n",
       "      <td>23.555941</td>\n",
       "      <td>6.692783</td>\n",
       "      <td>0.242835</td>\n",
       "      <td>0.113899</td>\n",
       "      <td>0.709557</td>\n",
       "      <td>28.687941</td>\n",
       "      <td>2.012930</td>\n",
       "      <td>8.622790</td>\n",
       "      <td>165.760255</td>\n",
       "      <td>2.163848</td>\n",
       "      <td>91.716498</td>\n",
       "      <td>6.896749</td>\n",
       "    </tr>\n",
       "    <tr>\n",
       "      <th>min</th>\n",
       "      <td>0.006320</td>\n",
       "      <td>0.000000</td>\n",
       "      <td>0.740000</td>\n",
       "      <td>0.000000</td>\n",
       "      <td>0.392000</td>\n",
       "      <td>3.561000</td>\n",
       "      <td>2.900000</td>\n",
       "      <td>1.129600</td>\n",
       "      <td>1.000000</td>\n",
       "      <td>188.000000</td>\n",
       "      <td>12.600000</td>\n",
       "      <td>0.320000</td>\n",
       "      <td>1.730000</td>\n",
       "    </tr>\n",
       "    <tr>\n",
       "      <th>25%</th>\n",
       "      <td>0.082100</td>\n",
       "      <td>0.000000</td>\n",
       "      <td>5.190000</td>\n",
       "      <td>0.000000</td>\n",
       "      <td>0.449000</td>\n",
       "      <td>5.883500</td>\n",
       "      <td>42.600000</td>\n",
       "      <td>2.177750</td>\n",
       "      <td>4.000000</td>\n",
       "      <td>278.000000</td>\n",
       "      <td>17.400000</td>\n",
       "      <td>376.420000</td>\n",
       "      <td>6.600000</td>\n",
       "    </tr>\n",
       "    <tr>\n",
       "      <th>50%</th>\n",
       "      <td>0.239120</td>\n",
       "      <td>0.000000</td>\n",
       "      <td>8.560000</td>\n",
       "      <td>0.000000</td>\n",
       "      <td>0.532000</td>\n",
       "      <td>6.195000</td>\n",
       "      <td>74.900000</td>\n",
       "      <td>3.377900</td>\n",
       "      <td>5.000000</td>\n",
       "      <td>330.000000</td>\n",
       "      <td>19.100000</td>\n",
       "      <td>391.340000</td>\n",
       "      <td>11.380000</td>\n",
       "    </tr>\n",
       "    <tr>\n",
       "      <th>75%</th>\n",
       "      <td>2.799060</td>\n",
       "      <td>12.500000</td>\n",
       "      <td>18.100000</td>\n",
       "      <td>0.000000</td>\n",
       "      <td>0.624000</td>\n",
       "      <td>6.586000</td>\n",
       "      <td>93.100000</td>\n",
       "      <td>5.166300</td>\n",
       "      <td>16.000000</td>\n",
       "      <td>666.000000</td>\n",
       "      <td>20.200000</td>\n",
       "      <td>396.290000</td>\n",
       "      <td>16.550000</td>\n",
       "    </tr>\n",
       "    <tr>\n",
       "      <th>max</th>\n",
       "      <td>73.534100</td>\n",
       "      <td>95.000000</td>\n",
       "      <td>27.740000</td>\n",
       "      <td>1.000000</td>\n",
       "      <td>0.871000</td>\n",
       "      <td>8.780000</td>\n",
       "      <td>100.000000</td>\n",
       "      <td>10.710300</td>\n",
       "      <td>24.000000</td>\n",
       "      <td>711.000000</td>\n",
       "      <td>22.000000</td>\n",
       "      <td>396.900000</td>\n",
       "      <td>36.980000</td>\n",
       "    </tr>\n",
       "  </tbody>\n",
       "</table>\n",
       "</div>"
      ],
      "text/plain": [
       "             CRIM          ZN       INDUS        CHAS         NOX          RM  \\\n",
       "count  303.000000  303.000000  303.000000  303.000000  303.000000  303.000000   \n",
       "mean     3.072186   11.490099   10.950660    0.062706    0.551323    6.267208   \n",
       "std      6.896973   23.555941    6.692783    0.242835    0.113899    0.709557   \n",
       "min      0.006320    0.000000    0.740000    0.000000    0.392000    3.561000   \n",
       "25%      0.082100    0.000000    5.190000    0.000000    0.449000    5.883500   \n",
       "50%      0.239120    0.000000    8.560000    0.000000    0.532000    6.195000   \n",
       "75%      2.799060   12.500000   18.100000    0.000000    0.624000    6.586000   \n",
       "max     73.534100   95.000000   27.740000    1.000000    0.871000    8.780000   \n",
       "\n",
       "              AGE         DIS         RAD         TAX     PTRATIO           B  \\\n",
       "count  303.000000  303.000000  303.000000  303.000000  303.000000  303.000000   \n",
       "mean    67.048845    3.844638    9.306931  403.584158   18.461716  356.533696   \n",
       "std     28.687941    2.012930    8.622790  165.760255    2.163848   91.716498   \n",
       "min      2.900000    1.129600    1.000000  188.000000   12.600000    0.320000   \n",
       "25%     42.600000    2.177750    4.000000  278.000000   17.400000  376.420000   \n",
       "50%     74.900000    3.377900    5.000000  330.000000   19.100000  391.340000   \n",
       "75%     93.100000    5.166300   16.000000  666.000000   20.200000  396.290000   \n",
       "max    100.000000   10.710300   24.000000  711.000000   22.000000  396.900000   \n",
       "\n",
       "            LSTAT  \n",
       "count  303.000000  \n",
       "mean    12.289142  \n",
       "std      6.896749  \n",
       "min      1.730000  \n",
       "25%      6.600000  \n",
       "50%     11.380000  \n",
       "75%     16.550000  \n",
       "max     36.980000  "
      ]
     },
     "execution_count": 379,
     "metadata": {},
     "output_type": "execute_result"
    }
   ],
   "source": [
    "X_train.describe()"
   ]
  },
  {
   "cell_type": "code",
   "execution_count": 380,
   "metadata": {},
   "outputs": [
    {
     "data": {
      "text/plain": [
       "array([[<AxesSubplot:title={'center':'CRIM'}>,\n",
       "        <AxesSubplot:title={'center':'ZN'}>,\n",
       "        <AxesSubplot:title={'center':'INDUS'}>,\n",
       "        <AxesSubplot:title={'center':'CHAS'}>],\n",
       "       [<AxesSubplot:title={'center':'NOX'}>,\n",
       "        <AxesSubplot:title={'center':'RM'}>,\n",
       "        <AxesSubplot:title={'center':'AGE'}>,\n",
       "        <AxesSubplot:title={'center':'DIS'}>],\n",
       "       [<AxesSubplot:title={'center':'RAD'}>,\n",
       "        <AxesSubplot:title={'center':'TAX'}>,\n",
       "        <AxesSubplot:title={'center':'PTRATIO'}>,\n",
       "        <AxesSubplot:title={'center':'B'}>],\n",
       "       [<AxesSubplot:title={'center':'LSTAT'}>, <AxesSubplot:>,\n",
       "        <AxesSubplot:>, <AxesSubplot:>]], dtype=object)"
      ]
     },
     "execution_count": 380,
     "metadata": {},
     "output_type": "execute_result"
    },
    {
     "data": {
      "image/png": "[encoded data removed]",
      "text/plain": [
       "<Figure size 2160x1440 with 16 Axes>"
      ]
     },
     "metadata": {
      "needs_background": "light"
     },
     "output_type": "display_data"
    }
   ],
   "source": [
    "X_train.hist(bins=10, figsize=(30, 20))"
   ]
  },
  {
   "cell_type": "code",
   "execution_count": 381,
   "metadata": {},
   "outputs": [
    {
     "data": {
      "text/html": [
       "<style  type=\"text/css\" >\n",
       "#T_b9ff93b4_ff5a_11ea_b006_e069959a5dd3row0_col0,#T_b9ff93b4_ff5a_11ea_b006_e069959a5dd3row1_col1,#T_b9ff93b4_ff5a_11ea_b006_e069959a5dd3row2_col2,#T_b9ff93b4_ff5a_11ea_b006_e069959a5dd3row3_col3,#T_b9ff93b4_ff5a_11ea_b006_e069959a5dd3row4_col4,#T_b9ff93b4_ff5a_11ea_b006_e069959a5dd3row5_col5,#T_b9ff93b4_ff5a_11ea_b006_e069959a5dd3row6_col6,#T_b9ff93b4_ff5a_11ea_b006_e069959a5dd3row7_col7,#T_b9ff93b4_ff5a_11ea_b006_e069959a5dd3row8_col8,#T_b9ff93b4_ff5a_11ea_b006_e069959a5dd3row8_col9,#T_b9ff93b4_ff5a_11ea_b006_e069959a5dd3row9_col8,#T_b9ff93b4_ff5a_11ea_b006_e069959a5dd3row9_col9,#T_b9ff93b4_ff5a_11ea_b006_e069959a5dd3row10_col10,#T_b9ff93b4_ff5a_11ea_b006_e069959a5dd3row11_col11,#T_b9ff93b4_ff5a_11ea_b006_e069959a5dd3row12_col12{\n",
       "            background-color:  #ff4d4d;\n",
       "        }#T_b9ff93b4_ff5a_11ea_b006_e069959a5dd3row0_col1,#T_b9ff93b4_ff5a_11ea_b006_e069959a5dd3row0_col5,#T_b9ff93b4_ff5a_11ea_b006_e069959a5dd3row0_col6,#T_b9ff93b4_ff5a_11ea_b006_e069959a5dd3row0_col10,#T_b9ff93b4_ff5a_11ea_b006_e069959a5dd3row1_col0,#T_b9ff93b4_ff5a_11ea_b006_e069959a5dd3row1_col5,#T_b9ff93b4_ff5a_11ea_b006_e069959a5dd3row1_col8,#T_b9ff93b4_ff5a_11ea_b006_e069959a5dd3row1_col9,#T_b9ff93b4_ff5a_11ea_b006_e069959a5dd3row1_col10,#T_b9ff93b4_ff5a_11ea_b006_e069959a5dd3row2_col10,#T_b9ff93b4_ff5a_11ea_b006_e069959a5dd3row2_col11,#T_b9ff93b4_ff5a_11ea_b006_e069959a5dd3row4_col5,#T_b9ff93b4_ff5a_11ea_b006_e069959a5dd3row5_col0,#T_b9ff93b4_ff5a_11ea_b006_e069959a5dd3row5_col1,#T_b9ff93b4_ff5a_11ea_b006_e069959a5dd3row5_col4,#T_b9ff93b4_ff5a_11ea_b006_e069959a5dd3row5_col6,#T_b9ff93b4_ff5a_11ea_b006_e069959a5dd3row5_col7,#T_b9ff93b4_ff5a_11ea_b006_e069959a5dd3row5_col8,#T_b9ff93b4_ff5a_11ea_b006_e069959a5dd3row5_col9,#T_b9ff93b4_ff5a_11ea_b006_e069959a5dd3row5_col10,#T_b9ff93b4_ff5a_11ea_b006_e069959a5dd3row6_col0,#T_b9ff93b4_ff5a_11ea_b006_e069959a5dd3row6_col5,#T_b9ff93b4_ff5a_11ea_b006_e069959a5dd3row6_col10,#T_b9ff93b4_ff5a_11ea_b006_e069959a5dd3row6_col11,#T_b9ff93b4_ff5a_11ea_b006_e069959a5dd3row7_col5,#T_b9ff93b4_ff5a_11ea_b006_e069959a5dd3row7_col10,#T_b9ff93b4_ff5a_11ea_b006_e069959a5dd3row7_col11,#T_b9ff93b4_ff5a_11ea_b006_e069959a5dd3row8_col1,#T_b9ff93b4_ff5a_11ea_b006_e069959a5dd3row8_col5,#T_b9ff93b4_ff5a_11ea_b006_e069959a5dd3row9_col1,#T_b9ff93b4_ff5a_11ea_b006_e069959a5dd3row9_col5,#T_b9ff93b4_ff5a_11ea_b006_e069959a5dd3row10_col0,#T_b9ff93b4_ff5a_11ea_b006_e069959a5dd3row10_col1,#T_b9ff93b4_ff5a_11ea_b006_e069959a5dd3row10_col2,#T_b9ff93b4_ff5a_11ea_b006_e069959a5dd3row10_col5,#T_b9ff93b4_ff5a_11ea_b006_e069959a5dd3row10_col6,#T_b9ff93b4_ff5a_11ea_b006_e069959a5dd3row10_col7,#T_b9ff93b4_ff5a_11ea_b006_e069959a5dd3row10_col12,#T_b9ff93b4_ff5a_11ea_b006_e069959a5dd3row11_col2,#T_b9ff93b4_ff5a_11ea_b006_e069959a5dd3row11_col6,#T_b9ff93b4_ff5a_11ea_b006_e069959a5dd3row11_col7,#T_b9ff93b4_ff5a_11ea_b006_e069959a5dd3row11_col12,#T_b9ff93b4_ff5a_11ea_b006_e069959a5dd3row12_col10,#T_b9ff93b4_ff5a_11ea_b006_e069959a5dd3row12_col11{\n",
       "            background-color:  #99c2ff;\n",
       "        }#T_b9ff93b4_ff5a_11ea_b006_e069959a5dd3row0_col2,#T_b9ff93b4_ff5a_11ea_b006_e069959a5dd3row0_col4,#T_b9ff93b4_ff5a_11ea_b006_e069959a5dd3row0_col7,#T_b9ff93b4_ff5a_11ea_b006_e069959a5dd3row0_col11,#T_b9ff93b4_ff5a_11ea_b006_e069959a5dd3row0_col12,#T_b9ff93b4_ff5a_11ea_b006_e069959a5dd3row1_col2,#T_b9ff93b4_ff5a_11ea_b006_e069959a5dd3row1_col4,#T_b9ff93b4_ff5a_11ea_b006_e069959a5dd3row1_col6,#T_b9ff93b4_ff5a_11ea_b006_e069959a5dd3row1_col12,#T_b9ff93b4_ff5a_11ea_b006_e069959a5dd3row2_col0,#T_b9ff93b4_ff5a_11ea_b006_e069959a5dd3row2_col1,#T_b9ff93b4_ff5a_11ea_b006_e069959a5dd3row2_col5,#T_b9ff93b4_ff5a_11ea_b006_e069959a5dd3row2_col12,#T_b9ff93b4_ff5a_11ea_b006_e069959a5dd3row4_col0,#T_b9ff93b4_ff5a_11ea_b006_e069959a5dd3row4_col1,#T_b9ff93b4_ff5a_11ea_b006_e069959a5dd3row4_col8,#T_b9ff93b4_ff5a_11ea_b006_e069959a5dd3row4_col11,#T_b9ff93b4_ff5a_11ea_b006_e069959a5dd3row4_col12,#T_b9ff93b4_ff5a_11ea_b006_e069959a5dd3row5_col2,#T_b9ff93b4_ff5a_11ea_b006_e069959a5dd3row6_col1,#T_b9ff93b4_ff5a_11ea_b006_e069959a5dd3row6_col8,#T_b9ff93b4_ff5a_11ea_b006_e069959a5dd3row6_col9,#T_b9ff93b4_ff5a_11ea_b006_e069959a5dd3row7_col0,#T_b9ff93b4_ff5a_11ea_b006_e069959a5dd3row7_col8,#T_b9ff93b4_ff5a_11ea_b006_e069959a5dd3row7_col9,#T_b9ff93b4_ff5a_11ea_b006_e069959a5dd3row7_col12,#T_b9ff93b4_ff5a_11ea_b006_e069959a5dd3row8_col4,#T_b9ff93b4_ff5a_11ea_b006_e069959a5dd3row8_col6,#T_b9ff93b4_ff5a_11ea_b006_e069959a5dd3row8_col7,#T_b9ff93b4_ff5a_11ea_b006_e069959a5dd3row8_col10,#T_b9ff93b4_ff5a_11ea_b006_e069959a5dd3row8_col11,#T_b9ff93b4_ff5a_11ea_b006_e069959a5dd3row8_col12,#T_b9ff93b4_ff5a_11ea_b006_e069959a5dd3row9_col6,#T_b9ff93b4_ff5a_11ea_b006_e069959a5dd3row9_col7,#T_b9ff93b4_ff5a_11ea_b006_e069959a5dd3row9_col10,#T_b9ff93b4_ff5a_11ea_b006_e069959a5dd3row9_col11,#T_b9ff93b4_ff5a_11ea_b006_e069959a5dd3row9_col12,#T_b9ff93b4_ff5a_11ea_b006_e069959a5dd3row10_col8,#T_b9ff93b4_ff5a_11ea_b006_e069959a5dd3row10_col9,#T_b9ff93b4_ff5a_11ea_b006_e069959a5dd3row11_col0,#T_b9ff93b4_ff5a_11ea_b006_e069959a5dd3row11_col4,#T_b9ff93b4_ff5a_11ea_b006_e069959a5dd3row11_col8,#T_b9ff93b4_ff5a_11ea_b006_e069959a5dd3row11_col9,#T_b9ff93b4_ff5a_11ea_b006_e069959a5dd3row12_col0,#T_b9ff93b4_ff5a_11ea_b006_e069959a5dd3row12_col1,#T_b9ff93b4_ff5a_11ea_b006_e069959a5dd3row12_col2,#T_b9ff93b4_ff5a_11ea_b006_e069959a5dd3row12_col4,#T_b9ff93b4_ff5a_11ea_b006_e069959a5dd3row12_col7,#T_b9ff93b4_ff5a_11ea_b006_e069959a5dd3row12_col8,#T_b9ff93b4_ff5a_11ea_b006_e069959a5dd3row12_col9{\n",
       "            background-color:  #cce0ff;\n",
       "        }#T_b9ff93b4_ff5a_11ea_b006_e069959a5dd3row0_col3,#T_b9ff93b4_ff5a_11ea_b006_e069959a5dd3row1_col3,#T_b9ff93b4_ff5a_11ea_b006_e069959a5dd3row1_col11,#T_b9ff93b4_ff5a_11ea_b006_e069959a5dd3row2_col3,#T_b9ff93b4_ff5a_11ea_b006_e069959a5dd3row3_col0,#T_b9ff93b4_ff5a_11ea_b006_e069959a5dd3row3_col1,#T_b9ff93b4_ff5a_11ea_b006_e069959a5dd3row3_col2,#T_b9ff93b4_ff5a_11ea_b006_e069959a5dd3row3_col4,#T_b9ff93b4_ff5a_11ea_b006_e069959a5dd3row3_col5,#T_b9ff93b4_ff5a_11ea_b006_e069959a5dd3row3_col6,#T_b9ff93b4_ff5a_11ea_b006_e069959a5dd3row3_col7,#T_b9ff93b4_ff5a_11ea_b006_e069959a5dd3row3_col8,#T_b9ff93b4_ff5a_11ea_b006_e069959a5dd3row3_col9,#T_b9ff93b4_ff5a_11ea_b006_e069959a5dd3row3_col10,#T_b9ff93b4_ff5a_11ea_b006_e069959a5dd3row3_col11,#T_b9ff93b4_ff5a_11ea_b006_e069959a5dd3row3_col12,#T_b9ff93b4_ff5a_11ea_b006_e069959a5dd3row4_col3,#T_b9ff93b4_ff5a_11ea_b006_e069959a5dd3row4_col10,#T_b9ff93b4_ff5a_11ea_b006_e069959a5dd3row5_col3,#T_b9ff93b4_ff5a_11ea_b006_e069959a5dd3row5_col11,#T_b9ff93b4_ff5a_11ea_b006_e069959a5dd3row6_col3,#T_b9ff93b4_ff5a_11ea_b006_e069959a5dd3row7_col3,#T_b9ff93b4_ff5a_11ea_b006_e069959a5dd3row8_col3,#T_b9ff93b4_ff5a_11ea_b006_e069959a5dd3row9_col3,#T_b9ff93b4_ff5a_11ea_b006_e069959a5dd3row10_col3,#T_b9ff93b4_ff5a_11ea_b006_e069959a5dd3row10_col4,#T_b9ff93b4_ff5a_11ea_b006_e069959a5dd3row10_col11,#T_b9ff93b4_ff5a_11ea_b006_e069959a5dd3row11_col1,#T_b9ff93b4_ff5a_11ea_b006_e069959a5dd3row11_col3,#T_b9ff93b4_ff5a_11ea_b006_e069959a5dd3row11_col5,#T_b9ff93b4_ff5a_11ea_b006_e069959a5dd3row11_col10,#T_b9ff93b4_ff5a_11ea_b006_e069959a5dd3row12_col3{\n",
       "            background-color:  #66a3ff;\n",
       "        }#T_b9ff93b4_ff5a_11ea_b006_e069959a5dd3row0_col8,#T_b9ff93b4_ff5a_11ea_b006_e069959a5dd3row0_col9,#T_b9ff93b4_ff5a_11ea_b006_e069959a5dd3row1_col7,#T_b9ff93b4_ff5a_11ea_b006_e069959a5dd3row2_col4,#T_b9ff93b4_ff5a_11ea_b006_e069959a5dd3row2_col6,#T_b9ff93b4_ff5a_11ea_b006_e069959a5dd3row2_col7,#T_b9ff93b4_ff5a_11ea_b006_e069959a5dd3row2_col8,#T_b9ff93b4_ff5a_11ea_b006_e069959a5dd3row2_col9,#T_b9ff93b4_ff5a_11ea_b006_e069959a5dd3row4_col2,#T_b9ff93b4_ff5a_11ea_b006_e069959a5dd3row4_col6,#T_b9ff93b4_ff5a_11ea_b006_e069959a5dd3row4_col7,#T_b9ff93b4_ff5a_11ea_b006_e069959a5dd3row4_col9,#T_b9ff93b4_ff5a_11ea_b006_e069959a5dd3row5_col12,#T_b9ff93b4_ff5a_11ea_b006_e069959a5dd3row6_col2,#T_b9ff93b4_ff5a_11ea_b006_e069959a5dd3row6_col4,#T_b9ff93b4_ff5a_11ea_b006_e069959a5dd3row6_col7,#T_b9ff93b4_ff5a_11ea_b006_e069959a5dd3row6_col12,#T_b9ff93b4_ff5a_11ea_b006_e069959a5dd3row7_col1,#T_b9ff93b4_ff5a_11ea_b006_e069959a5dd3row7_col2,#T_b9ff93b4_ff5a_11ea_b006_e069959a5dd3row7_col4,#T_b9ff93b4_ff5a_11ea_b006_e069959a5dd3row7_col6,#T_b9ff93b4_ff5a_11ea_b006_e069959a5dd3row8_col0,#T_b9ff93b4_ff5a_11ea_b006_e069959a5dd3row8_col2,#T_b9ff93b4_ff5a_11ea_b006_e069959a5dd3row9_col0,#T_b9ff93b4_ff5a_11ea_b006_e069959a5dd3row9_col2,#T_b9ff93b4_ff5a_11ea_b006_e069959a5dd3row9_col4,#T_b9ff93b4_ff5a_11ea_b006_e069959a5dd3row12_col5,#T_b9ff93b4_ff5a_11ea_b006_e069959a5dd3row12_col6{\n",
       "            background-color:  #ffb3b3;\n",
       "        }</style><table id=\"T_b9ff93b4_ff5a_11ea_b006_e069959a5dd3\" ><thead>    <tr>        <th class=\"blank level0\" ></th>        <th class=\"col_heading level0 col0\" >CRIM</th>        <th class=\"col_heading level0 col1\" >ZN</th>        <th class=\"col_heading level0 col2\" >INDUS</th>        <th class=\"col_heading level0 col3\" >CHAS</th>        <th class=\"col_heading level0 col4\" >NOX</th>        <th class=\"col_heading level0 col5\" >RM</th>        <th class=\"col_heading level0 col6\" >AGE</th>        <th class=\"col_heading level0 col7\" >DIS</th>        <th class=\"col_heading level0 col8\" >RAD</th>        <th class=\"col_heading level0 col9\" >TAX</th>        <th class=\"col_heading level0 col10\" >PTRATIO</th>        <th class=\"col_heading level0 col11\" >B</th>        <th class=\"col_heading level0 col12\" >LSTAT</th>    </tr></thead><tbody>\n",
       "                <tr>\n",
       "                        <th id=\"T_b9ff93b4_ff5a_11ea_b006_e069959a5dd3level0_row0\" class=\"row_heading level0 row0\" >CRIM</th>\n",
       "                        <td id=\"T_b9ff93b4_ff5a_11ea_b006_e069959a5dd3row0_col0\" class=\"data row0 col0\" >1.000000</td>\n",
       "                        <td id=\"T_b9ff93b4_ff5a_11ea_b006_e069959a5dd3row0_col1\" class=\"data row0 col1\" >-0.212414</td>\n",
       "                        <td id=\"T_b9ff93b4_ff5a_11ea_b006_e069959a5dd3row0_col2\" class=\"data row0 col2\" >0.449062</td>\n",
       "                        <td id=\"T_b9ff93b4_ff5a_11ea_b006_e069959a5dd3row0_col3\" class=\"data row0 col3\" >-0.034846</td>\n",
       "                        <td id=\"T_b9ff93b4_ff5a_11ea_b006_e069959a5dd3row0_col4\" class=\"data row0 col4\" >0.446607</td>\n",
       "                        <td id=\"T_b9ff93b4_ff5a_11ea_b006_e069959a5dd3row0_col5\" class=\"data row0 col5\" >-0.309243</td>\n",
       "                        <td id=\"T_b9ff93b4_ff5a_11ea_b006_e069959a5dd3row0_col6\" class=\"data row0 col6\" >0.376747</td>\n",
       "                        <td id=\"T_b9ff93b4_ff5a_11ea_b006_e069959a5dd3row0_col7\" class=\"data row0 col7\" >-0.408939</td>\n",
       "                        <td id=\"T_b9ff93b4_ff5a_11ea_b006_e069959a5dd3row0_col8\" class=\"data row0 col8\" >0.665912</td>\n",
       "                        <td id=\"T_b9ff93b4_ff5a_11ea_b006_e069959a5dd3row0_col9\" class=\"data row0 col9\" >0.626940</td>\n",
       "                        <td id=\"T_b9ff93b4_ff5a_11ea_b006_e069959a5dd3row0_col10\" class=\"data row0 col10\" >0.297853</td>\n",
       "                        <td id=\"T_b9ff93b4_ff5a_11ea_b006_e069959a5dd3row0_col11\" class=\"data row0 col11\" >-0.463933</td>\n",
       "                        <td id=\"T_b9ff93b4_ff5a_11ea_b006_e069959a5dd3row0_col12\" class=\"data row0 col12\" >0.518590</td>\n",
       "            </tr>\n",
       "            <tr>\n",
       "                        <th id=\"T_b9ff93b4_ff5a_11ea_b006_e069959a5dd3level0_row1\" class=\"row_heading level0 row1\" >ZN</th>\n",
       "                        <td id=\"T_b9ff93b4_ff5a_11ea_b006_e069959a5dd3row1_col0\" class=\"data row1 col0\" >-0.212414</td>\n",
       "                        <td id=\"T_b9ff93b4_ff5a_11ea_b006_e069959a5dd3row1_col1\" class=\"data row1 col1\" >1.000000</td>\n",
       "                        <td id=\"T_b9ff93b4_ff5a_11ea_b006_e069959a5dd3row1_col2\" class=\"data row1 col2\" >-0.516074</td>\n",
       "                        <td id=\"T_b9ff93b4_ff5a_11ea_b006_e069959a5dd3row1_col3\" class=\"data row1 col3\" >-0.045332</td>\n",
       "                        <td id=\"T_b9ff93b4_ff5a_11ea_b006_e069959a5dd3row1_col4\" class=\"data row1 col4\" >-0.504516</td>\n",
       "                        <td id=\"T_b9ff93b4_ff5a_11ea_b006_e069959a5dd3row1_col5\" class=\"data row1 col5\" >0.301689</td>\n",
       "                        <td id=\"T_b9ff93b4_ff5a_11ea_b006_e069959a5dd3row1_col6\" class=\"data row1 col6\" >-0.553938</td>\n",
       "                        <td id=\"T_b9ff93b4_ff5a_11ea_b006_e069959a5dd3row1_col7\" class=\"data row1 col7\" >0.630764</td>\n",
       "                        <td id=\"T_b9ff93b4_ff5a_11ea_b006_e069959a5dd3row1_col8\" class=\"data row1 col8\" >-0.308894</td>\n",
       "                        <td id=\"T_b9ff93b4_ff5a_11ea_b006_e069959a5dd3row1_col9\" class=\"data row1 col9\" >-0.270765</td>\n",
       "                        <td id=\"T_b9ff93b4_ff5a_11ea_b006_e069959a5dd3row1_col10\" class=\"data row1 col10\" >-0.372882</td>\n",
       "                        <td id=\"T_b9ff93b4_ff5a_11ea_b006_e069959a5dd3row1_col11\" class=\"data row1 col11\" >0.178996</td>\n",
       "                        <td id=\"T_b9ff93b4_ff5a_11ea_b006_e069959a5dd3row1_col12\" class=\"data row1 col12\" >-0.404214</td>\n",
       "            </tr>\n",
       "            <tr>\n",
       "                        <th id=\"T_b9ff93b4_ff5a_11ea_b006_e069959a5dd3level0_row2\" class=\"row_heading level0 row2\" >INDUS</th>\n",
       "                        <td id=\"T_b9ff93b4_ff5a_11ea_b006_e069959a5dd3row2_col0\" class=\"data row2 col0\" >0.449062</td>\n",
       "                        <td id=\"T_b9ff93b4_ff5a_11ea_b006_e069959a5dd3row2_col1\" class=\"data row2 col1\" >-0.516074</td>\n",
       "                        <td id=\"T_b9ff93b4_ff5a_11ea_b006_e069959a5dd3row2_col2\" class=\"data row2 col2\" >1.000000</td>\n",
       "                        <td id=\"T_b9ff93b4_ff5a_11ea_b006_e069959a5dd3row2_col3\" class=\"data row2 col3\" >0.091698</td>\n",
       "                        <td id=\"T_b9ff93b4_ff5a_11ea_b006_e069959a5dd3row2_col4\" class=\"data row2 col4\" >0.758191</td>\n",
       "                        <td id=\"T_b9ff93b4_ff5a_11ea_b006_e069959a5dd3row2_col5\" class=\"data row2 col5\" >-0.412040</td>\n",
       "                        <td id=\"T_b9ff93b4_ff5a_11ea_b006_e069959a5dd3row2_col6\" class=\"data row2 col6\" >0.613818</td>\n",
       "                        <td id=\"T_b9ff93b4_ff5a_11ea_b006_e069959a5dd3row2_col7\" class=\"data row2 col7\" >-0.708063</td>\n",
       "                        <td id=\"T_b9ff93b4_ff5a_11ea_b006_e069959a5dd3row2_col8\" class=\"data row2 col8\" >0.613514</td>\n",
       "                        <td id=\"T_b9ff93b4_ff5a_11ea_b006_e069959a5dd3row2_col9\" class=\"data row2 col9\" >0.713620</td>\n",
       "                        <td id=\"T_b9ff93b4_ff5a_11ea_b006_e069959a5dd3row2_col10\" class=\"data row2 col10\" >0.344323</td>\n",
       "                        <td id=\"T_b9ff93b4_ff5a_11ea_b006_e069959a5dd3row2_col11\" class=\"data row2 col11\" >-0.382404</td>\n",
       "                        <td id=\"T_b9ff93b4_ff5a_11ea_b006_e069959a5dd3row2_col12\" class=\"data row2 col12\" >0.594021</td>\n",
       "            </tr>\n",
       "            <tr>\n",
       "                        <th id=\"T_b9ff93b4_ff5a_11ea_b006_e069959a5dd3level0_row3\" class=\"row_heading level0 row3\" >CHAS</th>\n",
       "                        <td id=\"T_b9ff93b4_ff5a_11ea_b006_e069959a5dd3row3_col0\" class=\"data row3 col0\" >-0.034846</td>\n",
       "                        <td id=\"T_b9ff93b4_ff5a_11ea_b006_e069959a5dd3row3_col1\" class=\"data row3 col1\" >-0.045332</td>\n",
       "                        <td id=\"T_b9ff93b4_ff5a_11ea_b006_e069959a5dd3row3_col2\" class=\"data row3 col2\" >0.091698</td>\n",
       "                        <td id=\"T_b9ff93b4_ff5a_11ea_b006_e069959a5dd3row3_col3\" class=\"data row3 col3\" >1.000000</td>\n",
       "                        <td id=\"T_b9ff93b4_ff5a_11ea_b006_e069959a5dd3row3_col4\" class=\"data row3 col4\" >0.104140</td>\n",
       "                        <td id=\"T_b9ff93b4_ff5a_11ea_b006_e069959a5dd3row3_col5\" class=\"data row3 col5\" >0.069530</td>\n",
       "                        <td id=\"T_b9ff93b4_ff5a_11ea_b006_e069959a5dd3row3_col6\" class=\"data row3 col6\" >0.104604</td>\n",
       "                        <td id=\"T_b9ff93b4_ff5a_11ea_b006_e069959a5dd3row3_col7\" class=\"data row3 col7\" >-0.120124</td>\n",
       "                        <td id=\"T_b9ff93b4_ff5a_11ea_b006_e069959a5dd3row3_col8\" class=\"data row3 col8\" >0.017661</td>\n",
       "                        <td id=\"T_b9ff93b4_ff5a_11ea_b006_e069959a5dd3row3_col9\" class=\"data row3 col9\" >-0.001653</td>\n",
       "                        <td id=\"T_b9ff93b4_ff5a_11ea_b006_e069959a5dd3row3_col10\" class=\"data row3 col10\" >-0.079228</td>\n",
       "                        <td id=\"T_b9ff93b4_ff5a_11ea_b006_e069959a5dd3row3_col11\" class=\"data row3 col11\" >0.026864</td>\n",
       "                        <td id=\"T_b9ff93b4_ff5a_11ea_b006_e069959a5dd3row3_col12\" class=\"data row3 col12\" >-0.033283</td>\n",
       "            </tr>\n",
       "            <tr>\n",
       "                        <th id=\"T_b9ff93b4_ff5a_11ea_b006_e069959a5dd3level0_row4\" class=\"row_heading level0 row4\" >NOX</th>\n",
       "                        <td id=\"T_b9ff93b4_ff5a_11ea_b006_e069959a5dd3row4_col0\" class=\"data row4 col0\" >0.446607</td>\n",
       "                        <td id=\"T_b9ff93b4_ff5a_11ea_b006_e069959a5dd3row4_col1\" class=\"data row4 col1\" >-0.504516</td>\n",
       "                        <td id=\"T_b9ff93b4_ff5a_11ea_b006_e069959a5dd3row4_col2\" class=\"data row4 col2\" >0.758191</td>\n",
       "                        <td id=\"T_b9ff93b4_ff5a_11ea_b006_e069959a5dd3row4_col3\" class=\"data row4 col3\" >0.104140</td>\n",
       "                        <td id=\"T_b9ff93b4_ff5a_11ea_b006_e069959a5dd3row4_col4\" class=\"data row4 col4\" >1.000000</td>\n",
       "                        <td id=\"T_b9ff93b4_ff5a_11ea_b006_e069959a5dd3row4_col5\" class=\"data row4 col5\" >-0.306793</td>\n",
       "                        <td id=\"T_b9ff93b4_ff5a_11ea_b006_e069959a5dd3row4_col6\" class=\"data row4 col6\" >0.713340</td>\n",
       "                        <td id=\"T_b9ff93b4_ff5a_11ea_b006_e069959a5dd3row4_col7\" class=\"data row4 col7\" >-0.762778</td>\n",
       "                        <td id=\"T_b9ff93b4_ff5a_11ea_b006_e069959a5dd3row4_col8\" class=\"data row4 col8\" >0.594326</td>\n",
       "                        <td id=\"T_b9ff93b4_ff5a_11ea_b006_e069959a5dd3row4_col9\" class=\"data row4 col9\" >0.640491</td>\n",
       "                        <td id=\"T_b9ff93b4_ff5a_11ea_b006_e069959a5dd3row4_col10\" class=\"data row4 col10\" >0.141355</td>\n",
       "                        <td id=\"T_b9ff93b4_ff5a_11ea_b006_e069959a5dd3row4_col11\" class=\"data row4 col11\" >-0.406418</td>\n",
       "                        <td id=\"T_b9ff93b4_ff5a_11ea_b006_e069959a5dd3row4_col12\" class=\"data row4 col12\" >0.552171</td>\n",
       "            </tr>\n",
       "            <tr>\n",
       "                        <th id=\"T_b9ff93b4_ff5a_11ea_b006_e069959a5dd3level0_row5\" class=\"row_heading level0 row5\" >RM</th>\n",
       "                        <td id=\"T_b9ff93b4_ff5a_11ea_b006_e069959a5dd3row5_col0\" class=\"data row5 col0\" >-0.309243</td>\n",
       "                        <td id=\"T_b9ff93b4_ff5a_11ea_b006_e069959a5dd3row5_col1\" class=\"data row5 col1\" >0.301689</td>\n",
       "                        <td id=\"T_b9ff93b4_ff5a_11ea_b006_e069959a5dd3row5_col2\" class=\"data row5 col2\" >-0.412040</td>\n",
       "                        <td id=\"T_b9ff93b4_ff5a_11ea_b006_e069959a5dd3row5_col3\" class=\"data row5 col3\" >0.069530</td>\n",
       "                        <td id=\"T_b9ff93b4_ff5a_11ea_b006_e069959a5dd3row5_col4\" class=\"data row5 col4\" >-0.306793</td>\n",
       "                        <td id=\"T_b9ff93b4_ff5a_11ea_b006_e069959a5dd3row5_col5\" class=\"data row5 col5\" >1.000000</td>\n",
       "                        <td id=\"T_b9ff93b4_ff5a_11ea_b006_e069959a5dd3row5_col6\" class=\"data row5 col6\" >-0.262948</td>\n",
       "                        <td id=\"T_b9ff93b4_ff5a_11ea_b006_e069959a5dd3row5_col7\" class=\"data row5 col7\" >0.229522</td>\n",
       "                        <td id=\"T_b9ff93b4_ff5a_11ea_b006_e069959a5dd3row5_col8\" class=\"data row5 col8\" >-0.235003</td>\n",
       "                        <td id=\"T_b9ff93b4_ff5a_11ea_b006_e069959a5dd3row5_col9\" class=\"data row5 col9\" >-0.306396</td>\n",
       "                        <td id=\"T_b9ff93b4_ff5a_11ea_b006_e069959a5dd3row5_col10\" class=\"data row5 col10\" >-0.319445</td>\n",
       "                        <td id=\"T_b9ff93b4_ff5a_11ea_b006_e069959a5dd3row5_col11\" class=\"data row5 col11\" >0.185917</td>\n",
       "                        <td id=\"T_b9ff93b4_ff5a_11ea_b006_e069959a5dd3row5_col12\" class=\"data row5 col12\" >-0.632652</td>\n",
       "            </tr>\n",
       "            <tr>\n",
       "                        <th id=\"T_b9ff93b4_ff5a_11ea_b006_e069959a5dd3level0_row6\" class=\"row_heading level0 row6\" >AGE</th>\n",
       "                        <td id=\"T_b9ff93b4_ff5a_11ea_b006_e069959a5dd3row6_col0\" class=\"data row6 col0\" >0.376747</td>\n",
       "                        <td id=\"T_b9ff93b4_ff5a_11ea_b006_e069959a5dd3row6_col1\" class=\"data row6 col1\" >-0.553938</td>\n",
       "                        <td id=\"T_b9ff93b4_ff5a_11ea_b006_e069959a5dd3row6_col2\" class=\"data row6 col2\" >0.613818</td>\n",
       "                        <td id=\"T_b9ff93b4_ff5a_11ea_b006_e069959a5dd3row6_col3\" class=\"data row6 col3\" >0.104604</td>\n",
       "                        <td id=\"T_b9ff93b4_ff5a_11ea_b006_e069959a5dd3row6_col4\" class=\"data row6 col4\" >0.713340</td>\n",
       "                        <td id=\"T_b9ff93b4_ff5a_11ea_b006_e069959a5dd3row6_col5\" class=\"data row6 col5\" >-0.262948</td>\n",
       "                        <td id=\"T_b9ff93b4_ff5a_11ea_b006_e069959a5dd3row6_col6\" class=\"data row6 col6\" >1.000000</td>\n",
       "                        <td id=\"T_b9ff93b4_ff5a_11ea_b006_e069959a5dd3row6_col7\" class=\"data row6 col7\" >-0.757411</td>\n",
       "                        <td id=\"T_b9ff93b4_ff5a_11ea_b006_e069959a5dd3row6_col8\" class=\"data row6 col8\" >0.415892</td>\n",
       "                        <td id=\"T_b9ff93b4_ff5a_11ea_b006_e069959a5dd3row6_col9\" class=\"data row6 col9\" >0.451448</td>\n",
       "                        <td id=\"T_b9ff93b4_ff5a_11ea_b006_e069959a5dd3row6_col10\" class=\"data row6 col10\" >0.207783</td>\n",
       "                        <td id=\"T_b9ff93b4_ff5a_11ea_b006_e069959a5dd3row6_col11\" class=\"data row6 col11\" >-0.263756</td>\n",
       "                        <td id=\"T_b9ff93b4_ff5a_11ea_b006_e069959a5dd3row6_col12\" class=\"data row6 col12\" >0.620996</td>\n",
       "            </tr>\n",
       "            <tr>\n",
       "                        <th id=\"T_b9ff93b4_ff5a_11ea_b006_e069959a5dd3level0_row7\" class=\"row_heading level0 row7\" >DIS</th>\n",
       "                        <td id=\"T_b9ff93b4_ff5a_11ea_b006_e069959a5dd3row7_col0\" class=\"data row7 col0\" >-0.408939</td>\n",
       "                        <td id=\"T_b9ff93b4_ff5a_11ea_b006_e069959a5dd3row7_col1\" class=\"data row7 col1\" >0.630764</td>\n",
       "                        <td id=\"T_b9ff93b4_ff5a_11ea_b006_e069959a5dd3row7_col2\" class=\"data row7 col2\" >-0.708063</td>\n",
       "                        <td id=\"T_b9ff93b4_ff5a_11ea_b006_e069959a5dd3row7_col3\" class=\"data row7 col3\" >-0.120124</td>\n",
       "                        <td id=\"T_b9ff93b4_ff5a_11ea_b006_e069959a5dd3row7_col4\" class=\"data row7 col4\" >-0.762778</td>\n",
       "                        <td id=\"T_b9ff93b4_ff5a_11ea_b006_e069959a5dd3row7_col5\" class=\"data row7 col5\" >0.229522</td>\n",
       "                        <td id=\"T_b9ff93b4_ff5a_11ea_b006_e069959a5dd3row7_col6\" class=\"data row7 col6\" >-0.757411</td>\n",
       "                        <td id=\"T_b9ff93b4_ff5a_11ea_b006_e069959a5dd3row7_col7\" class=\"data row7 col7\" >1.000000</td>\n",
       "                        <td id=\"T_b9ff93b4_ff5a_11ea_b006_e069959a5dd3row7_col8\" class=\"data row7 col8\" >-0.485854</td>\n",
       "                        <td id=\"T_b9ff93b4_ff5a_11ea_b006_e069959a5dd3row7_col9\" class=\"data row7 col9\" >-0.505421</td>\n",
       "                        <td id=\"T_b9ff93b4_ff5a_11ea_b006_e069959a5dd3row7_col10\" class=\"data row7 col10\" >-0.202847</td>\n",
       "                        <td id=\"T_b9ff93b4_ff5a_11ea_b006_e069959a5dd3row7_col11\" class=\"data row7 col11\" >0.312360</td>\n",
       "                        <td id=\"T_b9ff93b4_ff5a_11ea_b006_e069959a5dd3row7_col12\" class=\"data row7 col12\" >-0.488621</td>\n",
       "            </tr>\n",
       "            <tr>\n",
       "                        <th id=\"T_b9ff93b4_ff5a_11ea_b006_e069959a5dd3level0_row8\" class=\"row_heading level0 row8\" >RAD</th>\n",
       "                        <td id=\"T_b9ff93b4_ff5a_11ea_b006_e069959a5dd3row8_col0\" class=\"data row8 col0\" >0.665912</td>\n",
       "                        <td id=\"T_b9ff93b4_ff5a_11ea_b006_e069959a5dd3row8_col1\" class=\"data row8 col1\" >-0.308894</td>\n",
       "                        <td id=\"T_b9ff93b4_ff5a_11ea_b006_e069959a5dd3row8_col2\" class=\"data row8 col2\" >0.613514</td>\n",
       "                        <td id=\"T_b9ff93b4_ff5a_11ea_b006_e069959a5dd3row8_col3\" class=\"data row8 col3\" >0.017661</td>\n",
       "                        <td id=\"T_b9ff93b4_ff5a_11ea_b006_e069959a5dd3row8_col4\" class=\"data row8 col4\" >0.594326</td>\n",
       "                        <td id=\"T_b9ff93b4_ff5a_11ea_b006_e069959a5dd3row8_col5\" class=\"data row8 col5\" >-0.235003</td>\n",
       "                        <td id=\"T_b9ff93b4_ff5a_11ea_b006_e069959a5dd3row8_col6\" class=\"data row8 col6\" >0.415892</td>\n",
       "                        <td id=\"T_b9ff93b4_ff5a_11ea_b006_e069959a5dd3row8_col7\" class=\"data row8 col7\" >-0.485854</td>\n",
       "                        <td id=\"T_b9ff93b4_ff5a_11ea_b006_e069959a5dd3row8_col8\" class=\"data row8 col8\" >1.000000</td>\n",
       "                        <td id=\"T_b9ff93b4_ff5a_11ea_b006_e069959a5dd3row8_col9\" class=\"data row8 col9\" >0.920400</td>\n",
       "                        <td id=\"T_b9ff93b4_ff5a_11ea_b006_e069959a5dd3row8_col10\" class=\"data row8 col10\" >0.450174</td>\n",
       "                        <td id=\"T_b9ff93b4_ff5a_11ea_b006_e069959a5dd3row8_col11\" class=\"data row8 col11\" >-0.447469</td>\n",
       "                        <td id=\"T_b9ff93b4_ff5a_11ea_b006_e069959a5dd3row8_col12\" class=\"data row8 col12\" >0.483330</td>\n",
       "            </tr>\n",
       "            <tr>\n",
       "                        <th id=\"T_b9ff93b4_ff5a_11ea_b006_e069959a5dd3level0_row9\" class=\"row_heading level0 row9\" >TAX</th>\n",
       "                        <td id=\"T_b9ff93b4_ff5a_11ea_b006_e069959a5dd3row9_col0\" class=\"data row9 col0\" >0.626940</td>\n",
       "                        <td id=\"T_b9ff93b4_ff5a_11ea_b006_e069959a5dd3row9_col1\" class=\"data row9 col1\" >-0.270765</td>\n",
       "                        <td id=\"T_b9ff93b4_ff5a_11ea_b006_e069959a5dd3row9_col2\" class=\"data row9 col2\" >0.713620</td>\n",
       "                        <td id=\"T_b9ff93b4_ff5a_11ea_b006_e069959a5dd3row9_col3\" class=\"data row9 col3\" >-0.001653</td>\n",
       "                        <td id=\"T_b9ff93b4_ff5a_11ea_b006_e069959a5dd3row9_col4\" class=\"data row9 col4\" >0.640491</td>\n",
       "                        <td id=\"T_b9ff93b4_ff5a_11ea_b006_e069959a5dd3row9_col5\" class=\"data row9 col5\" >-0.306396</td>\n",
       "                        <td id=\"T_b9ff93b4_ff5a_11ea_b006_e069959a5dd3row9_col6\" class=\"data row9 col6\" >0.451448</td>\n",
       "                        <td id=\"T_b9ff93b4_ff5a_11ea_b006_e069959a5dd3row9_col7\" class=\"data row9 col7\" >-0.505421</td>\n",
       "                        <td id=\"T_b9ff93b4_ff5a_11ea_b006_e069959a5dd3row9_col8\" class=\"data row9 col8\" >0.920400</td>\n",
       "                        <td id=\"T_b9ff93b4_ff5a_11ea_b006_e069959a5dd3row9_col9\" class=\"data row9 col9\" >1.000000</td>\n",
       "                        <td id=\"T_b9ff93b4_ff5a_11ea_b006_e069959a5dd3row9_col10\" class=\"data row9 col10\" >0.419282</td>\n",
       "                        <td id=\"T_b9ff93b4_ff5a_11ea_b006_e069959a5dd3row9_col11\" class=\"data row9 col11\" >-0.447742</td>\n",
       "                        <td id=\"T_b9ff93b4_ff5a_11ea_b006_e069959a5dd3row9_col12\" class=\"data row9 col12\" >0.527677</td>\n",
       "            </tr>\n",
       "            <tr>\n",
       "                        <th id=\"T_b9ff93b4_ff5a_11ea_b006_e069959a5dd3level0_row10\" class=\"row_heading level0 row10\" >PTRATIO</th>\n",
       "                        <td id=\"T_b9ff93b4_ff5a_11ea_b006_e069959a5dd3row10_col0\" class=\"data row10 col0\" >0.297853</td>\n",
       "                        <td id=\"T_b9ff93b4_ff5a_11ea_b006_e069959a5dd3row10_col1\" class=\"data row10 col1\" >-0.372882</td>\n",
       "                        <td id=\"T_b9ff93b4_ff5a_11ea_b006_e069959a5dd3row10_col2\" class=\"data row10 col2\" >0.344323</td>\n",
       "                        <td id=\"T_b9ff93b4_ff5a_11ea_b006_e069959a5dd3row10_col3\" class=\"data row10 col3\" >-0.079228</td>\n",
       "                        <td id=\"T_b9ff93b4_ff5a_11ea_b006_e069959a5dd3row10_col4\" class=\"data row10 col4\" >0.141355</td>\n",
       "                        <td id=\"T_b9ff93b4_ff5a_11ea_b006_e069959a5dd3row10_col5\" class=\"data row10 col5\" >-0.319445</td>\n",
       "                        <td id=\"T_b9ff93b4_ff5a_11ea_b006_e069959a5dd3row10_col6\" class=\"data row10 col6\" >0.207783</td>\n",
       "                        <td id=\"T_b9ff93b4_ff5a_11ea_b006_e069959a5dd3row10_col7\" class=\"data row10 col7\" >-0.202847</td>\n",
       "                        <td id=\"T_b9ff93b4_ff5a_11ea_b006_e069959a5dd3row10_col8\" class=\"data row10 col8\" >0.450174</td>\n",
       "                        <td id=\"T_b9ff93b4_ff5a_11ea_b006_e069959a5dd3row10_col9\" class=\"data row10 col9\" >0.419282</td>\n",
       "                        <td id=\"T_b9ff93b4_ff5a_11ea_b006_e069959a5dd3row10_col10\" class=\"data row10 col10\" >1.000000</td>\n",
       "                        <td id=\"T_b9ff93b4_ff5a_11ea_b006_e069959a5dd3row10_col11\" class=\"data row10 col11\" >-0.149949</td>\n",
       "                        <td id=\"T_b9ff93b4_ff5a_11ea_b006_e069959a5dd3row10_col12\" class=\"data row10 col12\" >0.354531</td>\n",
       "            </tr>\n",
       "            <tr>\n",
       "                        <th id=\"T_b9ff93b4_ff5a_11ea_b006_e069959a5dd3level0_row11\" class=\"row_heading level0 row11\" >B</th>\n",
       "                        <td id=\"T_b9ff93b4_ff5a_11ea_b006_e069959a5dd3row11_col0\" class=\"data row11 col0\" >-0.463933</td>\n",
       "                        <td id=\"T_b9ff93b4_ff5a_11ea_b006_e069959a5dd3row11_col1\" class=\"data row11 col1\" >0.178996</td>\n",
       "                        <td id=\"T_b9ff93b4_ff5a_11ea_b006_e069959a5dd3row11_col2\" class=\"data row11 col2\" >-0.382404</td>\n",
       "                        <td id=\"T_b9ff93b4_ff5a_11ea_b006_e069959a5dd3row11_col3\" class=\"data row11 col3\" >0.026864</td>\n",
       "                        <td id=\"T_b9ff93b4_ff5a_11ea_b006_e069959a5dd3row11_col4\" class=\"data row11 col4\" >-0.406418</td>\n",
       "                        <td id=\"T_b9ff93b4_ff5a_11ea_b006_e069959a5dd3row11_col5\" class=\"data row11 col5\" >0.185917</td>\n",
       "                        <td id=\"T_b9ff93b4_ff5a_11ea_b006_e069959a5dd3row11_col6\" class=\"data row11 col6\" >-0.263756</td>\n",
       "                        <td id=\"T_b9ff93b4_ff5a_11ea_b006_e069959a5dd3row11_col7\" class=\"data row11 col7\" >0.312360</td>\n",
       "                        <td id=\"T_b9ff93b4_ff5a_11ea_b006_e069959a5dd3row11_col8\" class=\"data row11 col8\" >-0.447469</td>\n",
       "                        <td id=\"T_b9ff93b4_ff5a_11ea_b006_e069959a5dd3row11_col9\" class=\"data row11 col9\" >-0.447742</td>\n",
       "                        <td id=\"T_b9ff93b4_ff5a_11ea_b006_e069959a5dd3row11_col10\" class=\"data row11 col10\" >-0.149949</td>\n",
       "                        <td id=\"T_b9ff93b4_ff5a_11ea_b006_e069959a5dd3row11_col11\" class=\"data row11 col11\" >1.000000</td>\n",
       "                        <td id=\"T_b9ff93b4_ff5a_11ea_b006_e069959a5dd3row11_col12\" class=\"data row11 col12\" >-0.382603</td>\n",
       "            </tr>\n",
       "            <tr>\n",
       "                        <th id=\"T_b9ff93b4_ff5a_11ea_b006_e069959a5dd3level0_row12\" class=\"row_heading level0 row12\" >LSTAT</th>\n",
       "                        <td id=\"T_b9ff93b4_ff5a_11ea_b006_e069959a5dd3row12_col0\" class=\"data row12 col0\" >0.518590</td>\n",
       "                        <td id=\"T_b9ff93b4_ff5a_11ea_b006_e069959a5dd3row12_col1\" class=\"data row12 col1\" >-0.404214</td>\n",
       "                        <td id=\"T_b9ff93b4_ff5a_11ea_b006_e069959a5dd3row12_col2\" class=\"data row12 col2\" >0.594021</td>\n",
       "                        <td id=\"T_b9ff93b4_ff5a_11ea_b006_e069959a5dd3row12_col3\" class=\"data row12 col3\" >-0.033283</td>\n",
       "                        <td id=\"T_b9ff93b4_ff5a_11ea_b006_e069959a5dd3row12_col4\" class=\"data row12 col4\" >0.552171</td>\n",
       "                        <td id=\"T_b9ff93b4_ff5a_11ea_b006_e069959a5dd3row12_col5\" class=\"data row12 col5\" >-0.632652</td>\n",
       "                        <td id=\"T_b9ff93b4_ff5a_11ea_b006_e069959a5dd3row12_col6\" class=\"data row12 col6\" >0.620996</td>\n",
       "                        <td id=\"T_b9ff93b4_ff5a_11ea_b006_e069959a5dd3row12_col7\" class=\"data row12 col7\" >-0.488621</td>\n",
       "                        <td id=\"T_b9ff93b4_ff5a_11ea_b006_e069959a5dd3row12_col8\" class=\"data row12 col8\" >0.483330</td>\n",
       "                        <td id=\"T_b9ff93b4_ff5a_11ea_b006_e069959a5dd3row12_col9\" class=\"data row12 col9\" >0.527677</td>\n",
       "                        <td id=\"T_b9ff93b4_ff5a_11ea_b006_e069959a5dd3row12_col10\" class=\"data row12 col10\" >0.354531</td>\n",
       "                        <td id=\"T_b9ff93b4_ff5a_11ea_b006_e069959a5dd3row12_col11\" class=\"data row12 col11\" >-0.382603</td>\n",
       "                        <td id=\"T_b9ff93b4_ff5a_11ea_b006_e069959a5dd3row12_col12\" class=\"data row12 col12\" >1.000000</td>\n",
       "            </tr>\n",
       "    </tbody></table>"
      ],
      "text/plain": [
       "<pandas.io.formats.style.Styler at 0x13ef0788>"
      ]
     },
     "execution_count": 381,
     "metadata": {},
     "output_type": "execute_result"
    }
   ],
   "source": [
    "X_train.corr().style.applymap(color_corr_matrix)"
   ]
  },
  {
   "cell_type": "markdown",
   "metadata": {},
   "source": [
    "### Explore the labels (y)"
   ]
  },
  {
   "cell_type": "code",
   "execution_count": 382,
   "metadata": {},
   "outputs": [
    {
     "data": {
      "text/html": [
       "<div>\n",
       "<style scoped>\n",
       "    .dataframe tbody tr th:only-of-type {\n",
       "        vertical-align: middle;\n",
       "    }\n",
       "\n",
       "    .dataframe tbody tr th {\n",
       "        vertical-align: top;\n",
       "    }\n",
       "\n",
       "    .dataframe thead th {\n",
       "        text-align: right;\n",
       "    }\n",
       "</style>\n",
       "<table border=\"1\" class=\"dataframe\">\n",
       "  <thead>\n",
       "    <tr style=\"text-align: right;\">\n",
       "      <th></th>\n",
       "      <th>House price</th>\n",
       "    </tr>\n",
       "  </thead>\n",
       "  <tbody>\n",
       "    <tr>\n",
       "      <th>0</th>\n",
       "      <td>7.0</td>\n",
       "    </tr>\n",
       "    <tr>\n",
       "      <th>1</th>\n",
       "      <td>26.2</td>\n",
       "    </tr>\n",
       "    <tr>\n",
       "      <th>2</th>\n",
       "      <td>24.0</td>\n",
       "    </tr>\n",
       "    <tr>\n",
       "      <th>3</th>\n",
       "      <td>22.2</td>\n",
       "    </tr>\n",
       "    <tr>\n",
       "      <th>4</th>\n",
       "      <td>27.5</td>\n",
       "    </tr>\n",
       "  </tbody>\n",
       "</table>\n",
       "</div>"
      ],
      "text/plain": [
       "   House price\n",
       "0          7.0\n",
       "1         26.2\n",
       "2         24.0\n",
       "3         22.2\n",
       "4         27.5"
      ]
     },
     "execution_count": 382,
     "metadata": {},
     "output_type": "execute_result"
    }
   ],
   "source": [
    "y_train.head()"
   ]
  },
  {
   "cell_type": "code",
   "execution_count": 383,
   "metadata": {},
   "outputs": [
    {
     "data": {
      "text/plain": [
       "array([[<AxesSubplot:title={'center':'House price'}>]], dtype=object)"
      ]
     },
     "execution_count": 383,
     "metadata": {},
     "output_type": "execute_result"
    },
    {
     "data": {
      "image/png": "[encoded data removed]",
      "text/plain": [
       "<Figure size 432x288 with 1 Axes>"
      ]
     },
     "metadata": {
      "needs_background": "light"
     },
     "output_type": "display_data"
    }
   ],
   "source": [
    "y_train.hist(bins=50)"
   ]
  },
  {
   "cell_type": "markdown",
   "metadata": {},
   "source": [
    "## Training"
   ]
  },
  {
   "cell_type": "markdown",
   "metadata": {},
   "source": [
    "### Define the models"
   ]
  },
  {
   "cell_type": "code",
   "execution_count": 384,
   "metadata": {},
   "outputs": [],
   "source": [
    "class linearRegression(torch.nn.Module):\n",
    "    def __init__(self, inputSize, outputSize):\n",
    "        super(linearRegression, self).__init__()\n",
    "        self.linear = torch.nn.Linear(inputSize, outputSize)\n",
    "        \n",
    "        self.loss_function = torch.nn.MSELoss()\n",
    "        self.training_loss = []\n",
    "        self.validation_loss = []\n",
    "        \n",
    "    def forward(self, x):\n",
    "        out = self.linear(x)\n",
    "        return out\n",
    "    \n",
    "    def reset_loss_values(self):\n",
    "        self.training_loss = []\n",
    "        self.validation_loss = []"
   ]
  },
  {
   "cell_type": "code",
   "execution_count": 409,
   "metadata": {},
   "outputs": [],
   "source": [
    "class deepNetworkRegression(torch.nn.Module):\n",
    "    def __init__(self, inputSize, outputSize):\n",
    "        super(deepNetworkRegression, self).__init__()\n",
    "        # Hardcoded network architecture\n",
    "        self.hidden_layer1 = torch.nn.Linear(inputSize, 100)\n",
    "        self.hidden_layer2 = torch.nn.Linear(100, 100)\n",
    "        self.hidden_layer3 = torch.nn.Linear(100, 100)\n",
    "        self.hidden_layer4 = torch.nn.Linear(100, 50)\n",
    "        self.output_layer = torch.nn.Linear(50, outputSize)\n",
    "        \n",
    "        self.loss_function = torch.nn.MSELoss()\n",
    "        self.training_loss = []\n",
    "        self.validation_loss = []\n",
    "        \n",
    "    def forward(self, x):\n",
    "        x = F.relu(self.hidden_layer1(x))\n",
    "        x = F.relu(self.hidden_layer2(x))\n",
    "        x = F.relu(self.hidden_layer3(x))\n",
    "        x = F.relu(self.hidden_layer4(x))\n",
    "        out = self.output_layer(x)\n",
    "        return out\n",
    "    \n",
    "    def reset_loss_values(self):\n",
    "        self.training_loss = []\n",
    "        self.validation_loss = []"
   ]
  },
  {
   "cell_type": "code",
   "execution_count": 410,
   "metadata": {},
   "outputs": [],
   "source": [
    "class Data(torch.utils.data.Dataset):\n",
    "    def __init__(self, x, y):\n",
    "        super(Data, self).__init__()\n",
    "        \n",
    "        device = 'cuda' if torch.cuda.is_available() else 'cpu'\n",
    "        \n",
    "        self.x = torch.as_tensor(x.values, dtype=torch.float, device=device)\n",
    "        self.y = torch.as_tensor(y.values, dtype=torch.float, device=device)\n",
    "        \n",
    "    def __len__(self):\n",
    "        return self.x.shape[0]\n",
    "    \n",
    "    def __getitem__(self, index):\n",
    "        return self.x[index], self.y[index]"
   ]
  },
  {
   "cell_type": "code",
   "execution_count": 411,
   "metadata": {},
   "outputs": [],
   "source": [
    "# Define all train, dev and test sets\n",
    "train_dataset = Data(X_train, y_train)\n",
    "dev_dataset = Data(X_dev, y_dev)\n",
    "test_dataset = Data(X_test, y_test)"
   ]
  },
  {
   "cell_type": "markdown",
   "metadata": {},
   "source": [
    "### Training procedure"
   ]
  },
  {
   "cell_type": "markdown",
   "metadata": {},
   "source": [
    "Define a training pipeline:"
   ]
  },
  {
   "cell_type": "code",
   "execution_count": 412,
   "metadata": {},
   "outputs": [],
   "source": [
    "def train_model(train_dataset,\n",
    "                dev_dataset,\n",
    "                model,\n",
    "                defined_optimizer,\n",
    "                loss_function,\n",
    "                epochs,\n",
    "                lr,\n",
    "                print_loss_values=False,\n",
    "                print_loss_graph=False):\n",
    "    \n",
    "    \n",
    "    if defined_optimizer == \"sgd\" or defined_optimizer == \"SGD\":\n",
    "        optimizer = torch.optim.SGD(params=model.parameters(), lr=lr)\n",
    "    elif defined_optimizer == \"Adam\" or defined_optimizer == \"adam\":\n",
    "        optimizer = torch.optim.Adam(params=model.parameters(), lr=lr)\n",
    "    elif defined_optimizer == \"Adagrad\" or defined_optimizer == \"adagrad\":\n",
    "        optimizer = torch.optim.Adagrad(params=model.parameters(), lr=lr, weight_decay=1e-4)\n",
    "    \n",
    "    X_train_torch = train_dataset.x\n",
    "    y_train_torch = train_dataset.y\n",
    "    X_dev_torch = dev_dataset.x\n",
    "    y_dev_torch = dev_dataset.y\n",
    "    \n",
    "    for epoch in range(epochs):\n",
    "        \n",
    "        # Training Part - Start\n",
    "        \n",
    "        model.train()\n",
    "    \n",
    "        optimizer.zero_grad()\n",
    "\n",
    "        train_outputs = model(X_train_torch)\n",
    "\n",
    "        train_loss = loss_function(train_outputs, y_train_torch)\n",
    "\n",
    "        train_loss.backward()\n",
    "\n",
    "        optimizer.step()\n",
    "\n",
    "        if print_loss_values:\n",
    "            print(\"In epoch {}, loss: {}\".format(epoch, train_loss.item()))\n",
    "\n",
    "        model.training_loss.append(train_loss.item())\n",
    "        \n",
    "        # Training Part - End\n",
    "        \n",
    "        # Evaluation Part - Start\n",
    "        \n",
    "        model.eval()\n",
    "        \n",
    "        dev_outputs = model(X_dev_torch)\n",
    "        \n",
    "        dev_loss = loss_function(dev_outputs, y_dev_torch)\n",
    "        \n",
    "        model.validation_loss.append(dev_loss.item())\n",
    "        \n",
    "        # Evaluation Part - End\n",
    "        \n",
    "    if print_loss_graph:\n",
    "        plot_loss(train_loss=model.training_loss, dev_loss=model.validation_loss)"
   ]
  },
  {
   "cell_type": "markdown",
   "metadata": {},
   "source": [
    "### Train the linear regression models"
   ]
  },
  {
   "cell_type": "code",
   "execution_count": 413,
   "metadata": {},
   "outputs": [],
   "source": [
    "epochs = 3000"
   ]
  },
  {
   "cell_type": "code",
   "execution_count": 414,
   "metadata": {},
   "outputs": [],
   "source": [
    "linear_model_sgd = linearRegression(inputSize=X_train.shape[1], outputSize=y_train.shape[1])\n",
    "linear_model_adagrad = linearRegression(inputSize=X_train.shape[1], outputSize=y_train.shape[1])\n",
    "linear_model_adam = linearRegression(inputSize=X_train.shape[1], outputSize=y_train.shape[1])\n",
    "\n",
    "learning_rate_linear = 0.01"
   ]
  },
  {
   "cell_type": "code",
   "execution_count": 415,
   "metadata": {},
   "outputs": [
    {
     "data": {
      "image/png": "[encoded data removed]",
      "text/plain": [
       "<Figure size 432x288 with 1 Axes>"
      ]
     },
     "metadata": {
      "needs_background": "light"
     },
     "output_type": "display_data"
    }
   ],
   "source": [
    "# train the SGD model\n",
    "train_model(train_dataset=train_dataset, \n",
    "            dev_dataset=dev_dataset,\n",
    "            model=linear_model_sgd,\n",
    "            defined_optimizer=\"sgd\",\n",
    "            loss_function=linear_model_sgd.loss_function,\n",
    "            epochs=epochs,\n",
    "            lr=learning_rate_linear * 0.0001, # Work with smaller LR\n",
    "            print_loss_values=False,\n",
    "            print_loss_graph=True)"
   ]
  },
  {
   "cell_type": "code",
   "execution_count": 416,
   "metadata": {},
   "outputs": [
    {
     "data": {
      "image/png": "[encoded data removed]",
      "text/plain": [
       "<Figure size 432x288 with 1 Axes>"
      ]
     },
     "metadata": {
      "needs_background": "light"
     },
     "output_type": "display_data"
    }
   ],
   "source": [
    "# train the Adagrad model\n",
    "train_model(train_dataset=train_dataset, \n",
    "            dev_dataset=dev_dataset,\n",
    "            model=linear_model_adagrad,\n",
    "            defined_optimizer=\"adagrad\",\n",
    "            loss_function=linear_model_adagrad.loss_function,\n",
    "            epochs=epochs,\n",
    "            lr=learning_rate_linear,\n",
    "            print_loss_values=False,\n",
    "            print_loss_graph=True)"
   ]
  },
  {
   "cell_type": "code",
   "execution_count": 417,
   "metadata": {},
   "outputs": [
    {
     "data": {
      "image/png": "[encoded data removed]",
      "text/plain": [
       "<Figure size 432x288 with 1 Axes>"
      ]
     },
     "metadata": {
      "needs_background": "light"
     },
     "output_type": "display_data"
    }
   ],
   "source": [
    "# train the Adam model\n",
    "train_model(train_dataset=train_dataset, \n",
    "            dev_dataset=dev_dataset,\n",
    "            model=linear_model_adam,\n",
    "            defined_optimizer=\"adam\",\n",
    "            loss_function=linear_model_adam.loss_function,\n",
    "            epochs=epochs,\n",
    "            lr=learning_rate_linear,\n",
    "            print_loss_values=False,\n",
    "            print_loss_graph=True)"
   ]
  },
  {
   "cell_type": "markdown",
   "metadata": {},
   "source": [
    "### Train the deep network model"
   ]
  },
  {
   "cell_type": "code",
   "execution_count": 423,
   "metadata": {},
   "outputs": [],
   "source": [
    "nn_model_sgd = deepNetworkRegression(inputSize=X_train.shape[1], outputSize=y_train.shape[1])\n",
    "nn_model_adagrad = deepNetworkRegression(inputSize=X_train.shape[1], outputSize=y_train.shape[1])\n",
    "nn_model_adam = deepNetworkRegression(inputSize=X_train.shape[1], outputSize=y_train.shape[1])\n",
    "\n",
    "learning_rate_nn = 5e-5"
   ]
  },
  {
   "cell_type": "code",
   "execution_count": 424,
   "metadata": {},
   "outputs": [
    {
     "data": {
      "image/png": "[encoded data removed]",
      "text/plain": [
       "<Figure size 432x288 with 1 Axes>"
      ]
     },
     "metadata": {
      "needs_background": "light"
     },
     "output_type": "display_data"
    }
   ],
   "source": [
    "train_model(train_dataset=train_dataset, \n",
    "            dev_dataset=dev_dataset, \n",
    "            model=nn_model_sgd,\n",
    "            defined_optimizer=\"sgd\", \n",
    "            loss_function=nn_model_sgd.loss_function, \n",
    "            epochs=epochs, \n",
    "            lr=learning_rate_nn, \n",
    "            print_loss_values=False, \n",
    "            print_loss_graph=True)"
   ]
  },
  {
   "cell_type": "code",
   "execution_count": 425,
   "metadata": {},
   "outputs": [
    {
     "data": {
      "image/png": "[encoded data removed]",
      "text/plain": [
       "<Figure size 432x288 with 1 Axes>"
      ]
     },
     "metadata": {
      "needs_background": "light"
     },
     "output_type": "display_data"
    }
   ],
   "source": [
    "train_model(train_dataset=train_dataset, \n",
    "            dev_dataset=dev_dataset, \n",
    "            model=nn_model_adagrad,\n",
    "            defined_optimizer=\"adagrad\", \n",
    "            loss_function=nn_model_adagrad.loss_function, \n",
    "            epochs=epochs, \n",
    "            lr=learning_rate_nn * 5, \n",
    "            print_loss_values=False, \n",
    "            print_loss_graph=True)"
   ]
  },
  {
   "cell_type": "code",
   "execution_count": 426,
   "metadata": {},
   "outputs": [
    {
     "data": {
      "image/png": "[encoded data removed]",
      "text/plain": [
       "<Figure size 432x288 with 1 Axes>"
      ]
     },
     "metadata": {
      "needs_background": "light"
     },
     "output_type": "display_data"
    }
   ],
   "source": [
    "train_model(train_dataset=train_dataset, \n",
    "            dev_dataset=dev_dataset, \n",
    "            model=nn_model_adam,\n",
    "            defined_optimizer=\"adam\", \n",
    "            loss_function=nn_model_adam.loss_function, \n",
    "            epochs=epochs, \n",
    "            lr=learning_rate_nn, \n",
    "            print_loss_values=False, \n",
    "            print_loss_graph=True)"
   ]
  },
  {
   "cell_type": "markdown",
   "metadata": {},
   "source": [
    "#### Check the results"
   ]
  },
  {
   "cell_type": "code",
   "execution_count": 408,
   "metadata": {},
   "outputs": [
    {
     "name": "stdout",
     "output_type": "stream",
     "text": [
      "linear GD loss:\t\t\t85.30171966552734\n",
      "linear Adagrad loss:\t\t77.1449203491211\n",
      "linear Adam loss:\t\t38.37805938720703\n",
      "Deep NN GD loss:\t\t66.35966491699219\n",
      "Deep NN Adagrad loss:\t\t246.73757934570312\n",
      "Deep NN Adam loss:\t\t74.6198501586914\n"
     ]
    }
   ],
   "source": [
    "# Two deep layers\n",
    "print(\"linear GD loss:\\t\\t\\t\" + str(linear_model_sgd.validation_loss[-1]))\n",
    "print(\"linear Adagrad loss:\\t\\t\" + str(linear_model_adagrad.validation_loss[-1]))\n",
    "print(\"linear Adam loss:\\t\\t\" + str(linear_model_adam.validation_loss[-1]))\n",
    "print(\"Deep NN GD loss:\\t\\t\" + str(nn_model_sgd.validation_loss[-1]))\n",
    "print(\"Deep NN Adagrad loss:\\t\\t\" + str(nn_model_adagrad.validation_loss[-1]))\n",
    "print(\"Deep NN Adam loss:\\t\\t\" + str(nn_model_adam.validation_loss[-1]))"
   ]
  },
  {
   "cell_type": "code",
   "execution_count": 422,
   "metadata": {},
   "outputs": [
    {
     "name": "stdout",
     "output_type": "stream",
     "text": [
      "linear GD loss:\t\t\t86.94798278808594\n",
      "linear Adagrad loss:\t\t106.36994934082031\n",
      "linear Adam loss:\t\t38.37186813354492\n",
      "Deep NN GD loss:\t\t70.68522644042969\n",
      "Deep NN Adagrad loss:\t\t586.44091796875\n",
      "Deep NN Adam loss:\t\t77.37437438964844\n"
     ]
    }
   ],
   "source": [
    "# Four deep layers\n",
    "print(\"linear GD loss:\\t\\t\\t\" + str(linear_model_sgd.validation_loss[-1]))\n",
    "print(\"linear Adagrad loss:\\t\\t\" + str(linear_model_adagrad.validation_loss[-1]))\n",
    "print(\"linear Adam loss:\\t\\t\" + str(linear_model_adam.validation_loss[-1]))\n",
    "print(\"Deep NN GD loss:\\t\\t\" + str(nn_model_sgd.validation_loss[-1]))\n",
    "print(\"Deep NN Adagrad loss:\\t\\t\" + str(nn_model_adagrad.validation_loss[-1]))\n",
    "print(\"Deep NN Adam loss:\\t\\t\" + str(nn_model_adam.validation_loss[-1]))"
   ]
  },
  {
   "cell_type": "code",
   "execution_count": 428,
   "metadata": {},
   "outputs": [
    {
     "name": "stdout",
     "output_type": "stream",
     "text": [
      "linear GD loss:\t\t\t86.94798278808594\n",
      "linear Adagrad loss:\t\t106.36994934082031\n",
      "linear Adam loss:\t\t38.37186813354492\n",
      "Deep NN GD loss:\t\t61.48246383666992\n",
      "Deep NN Adagrad loss:\t\t78.17229461669922\n",
      "Deep NN Adam loss:\t\t22.3032169342041\n"
     ]
    }
   ],
   "source": [
    "# Two deep layers, bigger LR for the NN (*5 for sgd and adam, *25 for adagrad)\n",
    "print(\"linear GD loss:\\t\\t\\t\" + str(linear_model_sgd.validation_loss[-1]))\n",
    "print(\"linear Adagrad loss:\\t\\t\" + str(linear_model_adagrad.validation_loss[-1]))\n",
    "print(\"linear Adam loss:\\t\\t\" + str(linear_model_adam.validation_loss[-1]))\n",
    "print(\"Deep NN GD loss:\\t\\t\" + str(nn_model_sgd.validation_loss[-1]))\n",
    "print(\"Deep NN Adagrad loss:\\t\\t\" + str(nn_model_adagrad.validation_loss[-1]))\n",
    "print(\"Deep NN Adam loss:\\t\\t\" + str(nn_model_adam.validation_loss[-1]))"
   ]
  },
  {
   "cell_type": "code",
   "execution_count": null,
   "metadata": {},
   "outputs": [],
   "source": []
  }
 ],
 "metadata": {
  "kernelspec": {
   "display_name": "Python 3",
   "language": "python",
   "name": "python3"
  },
  "language_info": {
   "codemirror_mode": {
    "name": "ipython",
    "version": 3
   },
   "file_extension": ".py",
   "mimetype": "text/x-python",
   "name": "python",
   "nbconvert_exporter": "python",
   "pygments_lexer": "ipython3",
   "version": "3.7.9"
  }
 },
 "nbformat": 4,
 "nbformat_minor": 4
}
