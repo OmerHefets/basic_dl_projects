{
 "cells": [
  {
   "cell_type": "markdown",
   "metadata": {},
   "source": [
    "# Classification on the iris dataset"
   ]
  },
  {
   "cell_type": "markdown",
   "metadata": {},
   "source": [
    "## Import Libraries"
   ]
  },
  {
   "cell_type": "code",
   "execution_count": 344,
   "metadata": {},
   "outputs": [],
   "source": [
    "import torch\n",
    "from torch.utils.data import Dataset\n",
    "import numpy as np\n",
    "import pandas as pd\n",
    "%run utils.ipynb\n",
    "from sklearn.datasets import load_iris\n",
    "from sklearn.model_selection import train_test_split\n",
    "from sklearn.preprocessing import OneHotEncoder, StandardScaler\n",
    "import tqdm"
   ]
  },
  {
   "cell_type": "markdown",
   "metadata": {},
   "source": [
    "## Get the data"
   ]
  },
  {
   "cell_type": "markdown",
   "metadata": {},
   "source": [
    "Get the metadata and the data itself:"
   ]
  },
  {
   "cell_type": "code",
   "execution_count": 345,
   "metadata": {},
   "outputs": [],
   "source": [
    "iris_dataset = load_iris(return_X_y=False, as_frame=False)"
   ]
  },
  {
   "cell_type": "markdown",
   "metadata": {},
   "source": [
    "Get and save number of examples of the data set:"
   ]
  },
  {
   "cell_type": "code",
   "execution_count": 346,
   "metadata": {},
   "outputs": [
    {
     "name": "stdout",
     "output_type": "stream",
     "text": [
      "Number of samples is 150\n"
     ]
    }
   ],
   "source": [
    "m = iris_dataset.data.shape[0]\n",
    "print(\"Number of samples is \" + str(m))"
   ]
  },
  {
   "cell_type": "markdown",
   "metadata": {},
   "source": [
    "#### Save data and labels as DataFrames"
   ]
  },
  {
   "cell_type": "code",
   "execution_count": 347,
   "metadata": {},
   "outputs": [],
   "source": [
    "X = pd.DataFrame(data=iris_dataset.data, columns=iris_dataset.feature_names)\n",
    "y = pd.DataFrame(data=iris_dataset.target.reshape(m, -1), columns=[\"Class\"]) # reshape to get the labels as (m, 1) and not (m,)"
   ]
  },
  {
   "cell_type": "markdown",
   "metadata": {},
   "source": [
    "#### Split train-dev-test sets"
   ]
  },
  {
   "cell_type": "code",
   "execution_count": 348,
   "metadata": {},
   "outputs": [],
   "source": [
    "random_seed = 42\n",
    "X_train, X_dev_test, y_train, y_dev_test = train_test_split(X, y, test_size=0.4, random_state=random_seed)\n",
    "X_dev, X_test, y_dev, y_test = train_test_split(X_dev_test, y_dev_test, test_size=0.5, random_state=random_seed)"
   ]
  },
  {
   "cell_type": "markdown",
   "metadata": {},
   "source": [
    "View all sets sizes:"
   ]
  },
  {
   "cell_type": "code",
   "execution_count": 349,
   "metadata": {},
   "outputs": [
    {
     "name": "stdout",
     "output_type": "stream",
     "text": [
      "Input shape is:\t\t(150, 4)\n",
      "Output shape is:\t(150, 1)\n",
      "-------------------------------\n",
      "Train input shape is:\t(90, 4)\n",
      "Train output shape is:\t(90, 1)\n",
      "-------------------------------\n",
      "Dev input shape is:\t(30, 4)\n",
      "Dev output shape is:\t(30, 1)\n",
      "-------------------------------\n",
      "Test input shape is:\t(30, 4)\n",
      "Test output shape is:\t(30, 1)\n"
     ]
    }
   ],
   "source": [
    "print(\"Input shape is:\\t\\t\" + str(X.shape))\n",
    "print(\"Output shape is:\\t\" + str(y.shape))\n",
    "print(\"-------------------------------\")\n",
    "print(\"Train input shape is:\\t\" + str(X_train.shape))\n",
    "print(\"Train output shape is:\\t\" + str(y_train.shape))\n",
    "print(\"-------------------------------\")\n",
    "print(\"Dev input shape is:\\t\" + str(X_dev.shape))\n",
    "print(\"Dev output shape is:\\t\" + str(y_dev.shape))\n",
    "print(\"-------------------------------\")\n",
    "print(\"Test input shape is:\\t\" + str(X_test.shape))\n",
    "print(\"Test output shape is:\\t\" + str(y_test.shape))"
   ]
  },
  {
   "cell_type": "markdown",
   "metadata": {},
   "source": [
    "## Explore the data"
   ]
  },
  {
   "cell_type": "code",
   "execution_count": 350,
   "metadata": {},
   "outputs": [
    {
     "name": "stdout",
     "output_type": "stream",
     "text": [
      ".. _iris_dataset:\n",
      "\n",
      "Iris plants dataset\n",
      "--------------------\n",
      "\n",
      "**Data Set Characteristics:**\n",
      "\n",
      "    :Number of Instances: 150 (50 in each of three classes)\n",
      "    :Number of Attributes: 4 numeric, predictive attributes and the class\n",
      "    :Attribute Information:\n",
      "        - sepal length in cm\n",
      "        - sepal width in cm\n",
      "        - petal length in cm\n",
      "        - petal width in cm\n",
      "        - class:\n",
      "                - Iris-Setosa\n",
      "                - Iris-Versicolour\n",
      "                - Iris-Virginica\n",
      "                \n",
      "    :Summary Statistics:\n",
      "\n",
      "    ============== ==== ==== ======= ===== ====================\n",
      "                    Min  Max   Mean    SD   Class Correlation\n",
      "    ============== ==== ==== ======= ===== ====================\n",
      "    sepal length:   4.3  7.9   5.84   0.83    0.7826\n",
      "    sepal width:    2.0  4.4   3.05   0.43   -0.4194\n",
      "    petal length:   1.0  6.9   3.76   1.76    0.9490  (high!)\n",
      "    petal width:    0.1  2.5   1.20   0.76    0.9565  (high!)\n",
      "    ============== ==== ==== ======= ===== ====================\n",
      "\n",
      "    :Missing Attribute Values: None\n",
      "    :Class Distribution: 33.3% for each of 3 classes.\n",
      "    :Creator: R.A. Fisher\n",
      "    :Donor: Michael Marshall (MARSHALL%PLU@io.arc.nasa.gov)\n",
      "    :Date: July, 1988\n",
      "\n",
      "The famous Iris database, first used by Sir R.A. Fisher. The dataset is taken\n",
      "from Fisher's paper. Note that it's the same as in R, but not as in the UCI\n",
      "Machine Learning Repository, which has two wrong data points.\n",
      "\n",
      "This is perhaps the best known database to be found in the\n",
      "pattern recognition literature.  Fisher's paper is a classic in the field and\n",
      "is referenced frequently to this day.  (See Duda & Hart, for example.)  The\n",
      "data set contains 3 classes of 50 instances each, where each class refers to a\n",
      "type of iris plant.  One class is linearly separable from the other 2; the\n",
      "latter are NOT linearly separable from each other.\n",
      "\n",
      ".. topic:: References\n",
      "\n",
      "   - Fisher, R.A. \"The use of multiple measurements in taxonomic problems\"\n",
      "     Annual Eugenics, 7, Part II, 179-188 (1936); also in \"Contributions to\n",
      "     Mathematical Statistics\" (John Wiley, NY, 1950).\n",
      "   - Duda, R.O., & Hart, P.E. (1973) Pattern Classification and Scene Analysis.\n",
      "     (Q327.D83) John Wiley & Sons.  ISBN 0-471-22361-1.  See page 218.\n",
      "   - Dasarathy, B.V. (1980) \"Nosing Around the Neighborhood: A New System\n",
      "     Structure and Classification Rule for Recognition in Partially Exposed\n",
      "     Environments\".  IEEE Transactions on Pattern Analysis and Machine\n",
      "     Intelligence, Vol. PAMI-2, No. 1, 67-71.\n",
      "   - Gates, G.W. (1972) \"The Reduced Nearest Neighbor Rule\".  IEEE Transactions\n",
      "     on Information Theory, May 1972, 431-433.\n",
      "   - See also: 1988 MLC Proceedings, 54-64.  Cheeseman et al\"s AUTOCLASS II\n",
      "     conceptual clustering system finds 3 classes in the data.\n",
      "   - Many, many more ...\n"
     ]
    }
   ],
   "source": [
    "print(iris_dataset.DESCR)"
   ]
  },
  {
   "cell_type": "code",
   "execution_count": 351,
   "metadata": {},
   "outputs": [
    {
     "data": {
      "text/html": [
       "<div>\n",
       "<style scoped>\n",
       "    .dataframe tbody tr th:only-of-type {\n",
       "        vertical-align: middle;\n",
       "    }\n",
       "\n",
       "    .dataframe tbody tr th {\n",
       "        vertical-align: top;\n",
       "    }\n",
       "\n",
       "    .dataframe thead th {\n",
       "        text-align: right;\n",
       "    }\n",
       "</style>\n",
       "<table border=\"1\" class=\"dataframe\">\n",
       "  <thead>\n",
       "    <tr style=\"text-align: right;\">\n",
       "      <th></th>\n",
       "      <th>sepal length (cm)</th>\n",
       "      <th>sepal width (cm)</th>\n",
       "      <th>petal length (cm)</th>\n",
       "      <th>petal width (cm)</th>\n",
       "    </tr>\n",
       "  </thead>\n",
       "  <tbody>\n",
       "    <tr>\n",
       "      <th>123</th>\n",
       "      <td>6.3</td>\n",
       "      <td>2.7</td>\n",
       "      <td>4.9</td>\n",
       "      <td>1.8</td>\n",
       "    </tr>\n",
       "    <tr>\n",
       "      <th>24</th>\n",
       "      <td>4.8</td>\n",
       "      <td>3.4</td>\n",
       "      <td>1.9</td>\n",
       "      <td>0.2</td>\n",
       "    </tr>\n",
       "    <tr>\n",
       "      <th>25</th>\n",
       "      <td>5.0</td>\n",
       "      <td>3.0</td>\n",
       "      <td>1.6</td>\n",
       "      <td>0.2</td>\n",
       "    </tr>\n",
       "    <tr>\n",
       "      <th>23</th>\n",
       "      <td>5.1</td>\n",
       "      <td>3.3</td>\n",
       "      <td>1.7</td>\n",
       "      <td>0.5</td>\n",
       "    </tr>\n",
       "    <tr>\n",
       "      <th>94</th>\n",
       "      <td>5.6</td>\n",
       "      <td>2.7</td>\n",
       "      <td>4.2</td>\n",
       "      <td>1.3</td>\n",
       "    </tr>\n",
       "  </tbody>\n",
       "</table>\n",
       "</div>"
      ],
      "text/plain": [
       "     sepal length (cm)  sepal width (cm)  petal length (cm)  petal width (cm)\n",
       "123                6.3               2.7                4.9               1.8\n",
       "24                 4.8               3.4                1.9               0.2\n",
       "25                 5.0               3.0                1.6               0.2\n",
       "23                 5.1               3.3                1.7               0.5\n",
       "94                 5.6               2.7                4.2               1.3"
      ]
     },
     "execution_count": 351,
     "metadata": {},
     "output_type": "execute_result"
    }
   ],
   "source": [
    "X_train.head()"
   ]
  },
  {
   "cell_type": "code",
   "execution_count": 352,
   "metadata": {},
   "outputs": [
    {
     "data": {
      "text/html": [
       "<div>\n",
       "<style scoped>\n",
       "    .dataframe tbody tr th:only-of-type {\n",
       "        vertical-align: middle;\n",
       "    }\n",
       "\n",
       "    .dataframe tbody tr th {\n",
       "        vertical-align: top;\n",
       "    }\n",
       "\n",
       "    .dataframe thead th {\n",
       "        text-align: right;\n",
       "    }\n",
       "</style>\n",
       "<table border=\"1\" class=\"dataframe\">\n",
       "  <thead>\n",
       "    <tr style=\"text-align: right;\">\n",
       "      <th></th>\n",
       "      <th>Class</th>\n",
       "    </tr>\n",
       "  </thead>\n",
       "  <tbody>\n",
       "    <tr>\n",
       "      <th>123</th>\n",
       "      <td>2</td>\n",
       "    </tr>\n",
       "    <tr>\n",
       "      <th>24</th>\n",
       "      <td>0</td>\n",
       "    </tr>\n",
       "    <tr>\n",
       "      <th>25</th>\n",
       "      <td>0</td>\n",
       "    </tr>\n",
       "    <tr>\n",
       "      <th>23</th>\n",
       "      <td>0</td>\n",
       "    </tr>\n",
       "    <tr>\n",
       "      <th>94</th>\n",
       "      <td>1</td>\n",
       "    </tr>\n",
       "  </tbody>\n",
       "</table>\n",
       "</div>"
      ],
      "text/plain": [
       "     Class\n",
       "123      2\n",
       "24       0\n",
       "25       0\n",
       "23       0\n",
       "94       1"
      ]
     },
     "execution_count": 352,
     "metadata": {},
     "output_type": "execute_result"
    }
   ],
   "source": [
    "y_train.head()"
   ]
  },
  {
   "cell_type": "code",
   "execution_count": 353,
   "metadata": {},
   "outputs": [
    {
     "name": "stdout",
     "output_type": "stream",
     "text": [
      "<class 'pandas.core.frame.DataFrame'>\n",
      "RangeIndex: 150 entries, 0 to 149\n",
      "Data columns (total 4 columns):\n",
      " #   Column             Non-Null Count  Dtype  \n",
      "---  ------             --------------  -----  \n",
      " 0   sepal length (cm)  150 non-null    float64\n",
      " 1   sepal width (cm)   150 non-null    float64\n",
      " 2   petal length (cm)  150 non-null    float64\n",
      " 3   petal width (cm)   150 non-null    float64\n",
      "dtypes: float64(4)\n",
      "memory usage: 4.8 KB\n"
     ]
    }
   ],
   "source": [
    "X.info()"
   ]
  },
  {
   "cell_type": "code",
   "execution_count": 354,
   "metadata": {},
   "outputs": [
    {
     "name": "stdout",
     "output_type": "stream",
     "text": [
      "<class 'pandas.core.frame.DataFrame'>\n",
      "RangeIndex: 150 entries, 0 to 149\n",
      "Data columns (total 1 columns):\n",
      " #   Column  Non-Null Count  Dtype\n",
      "---  ------  --------------  -----\n",
      " 0   Class   150 non-null    int32\n",
      "dtypes: int32(1)\n",
      "memory usage: 728.0 bytes\n"
     ]
    }
   ],
   "source": [
    "y.info()"
   ]
  },
  {
   "cell_type": "code",
   "execution_count": 355,
   "metadata": {},
   "outputs": [
    {
     "data": {
      "text/html": [
       "<div>\n",
       "<style scoped>\n",
       "    .dataframe tbody tr th:only-of-type {\n",
       "        vertical-align: middle;\n",
       "    }\n",
       "\n",
       "    .dataframe tbody tr th {\n",
       "        vertical-align: top;\n",
       "    }\n",
       "\n",
       "    .dataframe thead th {\n",
       "        text-align: right;\n",
       "    }\n",
       "</style>\n",
       "<table border=\"1\" class=\"dataframe\">\n",
       "  <thead>\n",
       "    <tr style=\"text-align: right;\">\n",
       "      <th></th>\n",
       "      <th>sepal length (cm)</th>\n",
       "      <th>sepal width (cm)</th>\n",
       "      <th>petal length (cm)</th>\n",
       "      <th>petal width (cm)</th>\n",
       "    </tr>\n",
       "  </thead>\n",
       "  <tbody>\n",
       "    <tr>\n",
       "      <th>count</th>\n",
       "      <td>90.000000</td>\n",
       "      <td>90.000000</td>\n",
       "      <td>90.000000</td>\n",
       "      <td>90.000000</td>\n",
       "    </tr>\n",
       "    <tr>\n",
       "      <th>mean</th>\n",
       "      <td>5.818889</td>\n",
       "      <td>3.005556</td>\n",
       "      <td>3.844444</td>\n",
       "      <td>1.243333</td>\n",
       "    </tr>\n",
       "    <tr>\n",
       "      <th>std</th>\n",
       "      <td>0.818040</td>\n",
       "      <td>0.411181</td>\n",
       "      <td>1.708545</td>\n",
       "      <td>0.749989</td>\n",
       "    </tr>\n",
       "    <tr>\n",
       "      <th>min</th>\n",
       "      <td>4.300000</td>\n",
       "      <td>2.200000</td>\n",
       "      <td>1.100000</td>\n",
       "      <td>0.100000</td>\n",
       "    </tr>\n",
       "    <tr>\n",
       "      <th>25%</th>\n",
       "      <td>5.100000</td>\n",
       "      <td>2.725000</td>\n",
       "      <td>1.625000</td>\n",
       "      <td>0.325000</td>\n",
       "    </tr>\n",
       "    <tr>\n",
       "      <th>50%</th>\n",
       "      <td>5.800000</td>\n",
       "      <td>3.000000</td>\n",
       "      <td>4.350000</td>\n",
       "      <td>1.300000</td>\n",
       "    </tr>\n",
       "    <tr>\n",
       "      <th>75%</th>\n",
       "      <td>6.375000</td>\n",
       "      <td>3.200000</td>\n",
       "      <td>5.100000</td>\n",
       "      <td>1.800000</td>\n",
       "    </tr>\n",
       "    <tr>\n",
       "      <th>max</th>\n",
       "      <td>7.700000</td>\n",
       "      <td>4.200000</td>\n",
       "      <td>6.700000</td>\n",
       "      <td>2.500000</td>\n",
       "    </tr>\n",
       "  </tbody>\n",
       "</table>\n",
       "</div>"
      ],
      "text/plain": [
       "       sepal length (cm)  sepal width (cm)  petal length (cm)  \\\n",
       "count          90.000000         90.000000          90.000000   \n",
       "mean            5.818889          3.005556           3.844444   \n",
       "std             0.818040          0.411181           1.708545   \n",
       "min             4.300000          2.200000           1.100000   \n",
       "25%             5.100000          2.725000           1.625000   \n",
       "50%             5.800000          3.000000           4.350000   \n",
       "75%             6.375000          3.200000           5.100000   \n",
       "max             7.700000          4.200000           6.700000   \n",
       "\n",
       "       petal width (cm)  \n",
       "count         90.000000  \n",
       "mean           1.243333  \n",
       "std            0.749989  \n",
       "min            0.100000  \n",
       "25%            0.325000  \n",
       "50%            1.300000  \n",
       "75%            1.800000  \n",
       "max            2.500000  "
      ]
     },
     "execution_count": 355,
     "metadata": {},
     "output_type": "execute_result"
    }
   ],
   "source": [
    "X_train.describe()"
   ]
  },
  {
   "cell_type": "code",
   "execution_count": 356,
   "metadata": {},
   "outputs": [
    {
     "data": {
      "text/plain": [
       "array([[<AxesSubplot:title={'center':'sepal length (cm)'}>,\n",
       "        <AxesSubplot:title={'center':'sepal width (cm)'}>],\n",
       "       [<AxesSubplot:title={'center':'petal length (cm)'}>,\n",
       "        <AxesSubplot:title={'center':'petal width (cm)'}>]], dtype=object)"
      ]
     },
     "execution_count": 356,
     "metadata": {},
     "output_type": "execute_result"
    },
    {
     "data": {
      "image/png": "[encoded data removed]",
      "text/plain": [
       "<Figure size 2160x1440 with 4 Axes>"
      ]
     },
     "metadata": {
      "needs_background": "light"
     },
     "output_type": "display_data"
    }
   ],
   "source": [
    "X_train.hist(figsize=(30, 20))"
   ]
  },
  {
   "cell_type": "code",
   "execution_count": 357,
   "metadata": {},
   "outputs": [
    {
     "data": {
      "text/plain": [
       "array([[<AxesSubplot:title={'center':'Class'}>]], dtype=object)"
      ]
     },
     "execution_count": 357,
     "metadata": {},
     "output_type": "execute_result"
    },
    {
     "data": {
      "image/png": "[encoded data removed]",
      "text/plain": [
       "<Figure size 432x288 with 1 Axes>"
      ]
     },
     "metadata": {
      "needs_background": "light"
     },
     "output_type": "display_data"
    }
   ],
   "source": [
    "y_train.hist()"
   ]
  },
  {
   "cell_type": "markdown",
   "metadata": {},
   "source": [
    "Check for correlation between parameters:"
   ]
  },
  {
   "cell_type": "code",
   "execution_count": 358,
   "metadata": {},
   "outputs": [
    {
     "data": {
      "text/html": [
       "<style  type=\"text/css\" >\n",
       "#T_13a9874c_002f_11eb_8829_e069959a5dd3row0_col0,#T_13a9874c_002f_11eb_8829_e069959a5dd3row0_col2,#T_13a9874c_002f_11eb_8829_e069959a5dd3row1_col1,#T_13a9874c_002f_11eb_8829_e069959a5dd3row2_col0,#T_13a9874c_002f_11eb_8829_e069959a5dd3row2_col2,#T_13a9874c_002f_11eb_8829_e069959a5dd3row2_col3,#T_13a9874c_002f_11eb_8829_e069959a5dd3row3_col2,#T_13a9874c_002f_11eb_8829_e069959a5dd3row3_col3{\n",
       "            background-color:  #ff4d4d;\n",
       "        }#T_13a9874c_002f_11eb_8829_e069959a5dd3row0_col1,#T_13a9874c_002f_11eb_8829_e069959a5dd3row1_col0{\n",
       "            background-color:  #66a3ff;\n",
       "        }#T_13a9874c_002f_11eb_8829_e069959a5dd3row0_col3,#T_13a9874c_002f_11eb_8829_e069959a5dd3row3_col0{\n",
       "            background-color:  #ffb3b3;\n",
       "        }#T_13a9874c_002f_11eb_8829_e069959a5dd3row1_col2,#T_13a9874c_002f_11eb_8829_e069959a5dd3row1_col3,#T_13a9874c_002f_11eb_8829_e069959a5dd3row2_col1,#T_13a9874c_002f_11eb_8829_e069959a5dd3row3_col1{\n",
       "            background-color:  #99c2ff;\n",
       "        }</style><table id=\"T_13a9874c_002f_11eb_8829_e069959a5dd3\" ><thead>    <tr>        <th class=\"blank level0\" ></th>        <th class=\"col_heading level0 col0\" >sepal length (cm)</th>        <th class=\"col_heading level0 col1\" >sepal width (cm)</th>        <th class=\"col_heading level0 col2\" >petal length (cm)</th>        <th class=\"col_heading level0 col3\" >petal width (cm)</th>    </tr></thead><tbody>\n",
       "                <tr>\n",
       "                        <th id=\"T_13a9874c_002f_11eb_8829_e069959a5dd3level0_row0\" class=\"row_heading level0 row0\" >sepal length (cm)</th>\n",
       "                        <td id=\"T_13a9874c_002f_11eb_8829_e069959a5dd3row0_col0\" class=\"data row0 col0\" >1.000000</td>\n",
       "                        <td id=\"T_13a9874c_002f_11eb_8829_e069959a5dd3row0_col1\" class=\"data row0 col1\" >-0.034054</td>\n",
       "                        <td id=\"T_13a9874c_002f_11eb_8829_e069959a5dd3row0_col2\" class=\"data row0 col2\" >0.860946</td>\n",
       "                        <td id=\"T_13a9874c_002f_11eb_8829_e069959a5dd3row0_col3\" class=\"data row0 col3\" >0.789994</td>\n",
       "            </tr>\n",
       "            <tr>\n",
       "                        <th id=\"T_13a9874c_002f_11eb_8829_e069959a5dd3level0_row1\" class=\"row_heading level0 row1\" >sepal width (cm)</th>\n",
       "                        <td id=\"T_13a9874c_002f_11eb_8829_e069959a5dd3row1_col0\" class=\"data row1 col0\" >-0.034054</td>\n",
       "                        <td id=\"T_13a9874c_002f_11eb_8829_e069959a5dd3row1_col1\" class=\"data row1 col1\" >1.000000</td>\n",
       "                        <td id=\"T_13a9874c_002f_11eb_8829_e069959a5dd3row1_col2\" class=\"data row1 col2\" >-0.341662</td>\n",
       "                        <td id=\"T_13a9874c_002f_11eb_8829_e069959a5dd3row1_col3\" class=\"data row1 col3\" >-0.279155</td>\n",
       "            </tr>\n",
       "            <tr>\n",
       "                        <th id=\"T_13a9874c_002f_11eb_8829_e069959a5dd3level0_row2\" class=\"row_heading level0 row2\" >petal length (cm)</th>\n",
       "                        <td id=\"T_13a9874c_002f_11eb_8829_e069959a5dd3row2_col0\" class=\"data row2 col0\" >0.860946</td>\n",
       "                        <td id=\"T_13a9874c_002f_11eb_8829_e069959a5dd3row2_col1\" class=\"data row2 col1\" >-0.341662</td>\n",
       "                        <td id=\"T_13a9874c_002f_11eb_8829_e069959a5dd3row2_col2\" class=\"data row2 col2\" >1.000000</td>\n",
       "                        <td id=\"T_13a9874c_002f_11eb_8829_e069959a5dd3row2_col3\" class=\"data row2 col3\" >0.958200</td>\n",
       "            </tr>\n",
       "            <tr>\n",
       "                        <th id=\"T_13a9874c_002f_11eb_8829_e069959a5dd3level0_row3\" class=\"row_heading level0 row3\" >petal width (cm)</th>\n",
       "                        <td id=\"T_13a9874c_002f_11eb_8829_e069959a5dd3row3_col0\" class=\"data row3 col0\" >0.789994</td>\n",
       "                        <td id=\"T_13a9874c_002f_11eb_8829_e069959a5dd3row3_col1\" class=\"data row3 col1\" >-0.279155</td>\n",
       "                        <td id=\"T_13a9874c_002f_11eb_8829_e069959a5dd3row3_col2\" class=\"data row3 col2\" >0.958200</td>\n",
       "                        <td id=\"T_13a9874c_002f_11eb_8829_e069959a5dd3row3_col3\" class=\"data row3 col3\" >1.000000</td>\n",
       "            </tr>\n",
       "    </tbody></table>"
      ],
      "text/plain": [
       "<pandas.io.formats.style.Styler at 0x1685dbc8>"
      ]
     },
     "execution_count": 358,
     "metadata": {},
     "output_type": "execute_result"
    }
   ],
   "source": [
    "X_train.corr().style.applymap(color_corr_matrix)"
   ]
  },
  {
   "cell_type": "markdown",
   "metadata": {},
   "source": [
    "Print the scatter matrices:"
   ]
  },
  {
   "cell_type": "code",
   "execution_count": 359,
   "metadata": {},
   "outputs": [
    {
     "data": {
      "image/png": "[encoded data removed]",
      "text/plain": [
       "<Figure size 432x288 with 1 Axes>"
      ]
     },
     "metadata": {
      "needs_background": "light"
     },
     "output_type": "display_data"
    }
   ],
   "source": [
    "plot_scatter_iris(X_train[\"petal length (cm)\"], X_train[\"petal width (cm)\"], y_train[\"Class\"], \"petal length\", \"petal width\")"
   ]
  },
  {
   "cell_type": "code",
   "execution_count": 360,
   "metadata": {},
   "outputs": [
    {
     "data": {
      "image/png": "[encoded data removed]",
      "text/plain": [
       "<Figure size 432x288 with 1 Axes>"
      ]
     },
     "metadata": {
      "needs_background": "light"
     },
     "output_type": "display_data"
    }
   ],
   "source": [
    "plot_scatter_iris(X_train[\"sepal length (cm)\"], X_train[\"sepal width (cm)\"], y_train[\"Class\"], \"sepal length\", \"sepal width\")"
   ]
  },
  {
   "cell_type": "code",
   "execution_count": 361,
   "metadata": {},
   "outputs": [
    {
     "data": {
      "image/png": "[encoded data removed]",
      "text/plain": [
       "<Figure size 432x288 with 1 Axes>"
      ]
     },
     "metadata": {
      "needs_background": "light"
     },
     "output_type": "display_data"
    }
   ],
   "source": [
    "plot_scatter_iris(X_train[\"petal length (cm)\"], X_train[\"sepal length (cm)\"], y_train[\"Class\"], \"petal length\", \"sepal length\")"
   ]
  },
  {
   "cell_type": "code",
   "execution_count": 362,
   "metadata": {},
   "outputs": [
    {
     "data": {
      "image/png": "[encoded data removed]",
      "text/plain": [
       "<Figure size 432x288 with 1 Axes>"
      ]
     },
     "metadata": {
      "needs_background": "light"
     },
     "output_type": "display_data"
    }
   ],
   "source": [
    "plot_scatter_iris(X_train[\"sepal length (cm)\"], X_train[\"petal width (cm)\"], y_train[\"Class\"], \"sepal length\", \"petal width\")"
   ]
  },
  {
   "cell_type": "code",
   "execution_count": 363,
   "metadata": {},
   "outputs": [
    {
     "data": {
      "image/png": "[encoded data removed]",
      "text/plain": [
       "<Figure size 432x288 with 1 Axes>"
      ]
     },
     "metadata": {
      "needs_background": "light"
     },
     "output_type": "display_data"
    }
   ],
   "source": [
    "plot_scatter_iris(X_train[\"sepal width (cm)\"], X_train[\"petal width (cm)\"], y_train[\"Class\"], \"sepal width\", \"petal width\")"
   ]
  },
  {
   "cell_type": "code",
   "execution_count": 364,
   "metadata": {},
   "outputs": [
    {
     "data": {
      "image/png": "[encoded data removed]",
      "text/plain": [
       "<Figure size 432x288 with 1 Axes>"
      ]
     },
     "metadata": {
      "needs_background": "light"
     },
     "output_type": "display_data"
    }
   ],
   "source": [
    "plot_scatter_iris(X_train[\"sepal width (cm)\"], X_train[\"petal length (cm)\"], y_train[\"Class\"], \"sepal width\", \"petal length\")"
   ]
  },
  {
   "cell_type": "markdown",
   "metadata": {},
   "source": [
    "## Prepare the data"
   ]
  },
  {
   "cell_type": "markdown",
   "metadata": {},
   "source": [
    "#### Create pytorch Data class:"
   ]
  },
  {
   "cell_type": "code",
   "execution_count": 384,
   "metadata": {},
   "outputs": [],
   "source": [
    "class IrisData(Dataset):\n",
    "    def __init__(self, X, y):\n",
    "        \n",
    "        super(IrisData, self).__init__()\n",
    "        \n",
    "        self.device = \"cuda\" if torch.cuda.is_available() else \"cpu\"\n",
    "        \n",
    "        # Turn X to a tensor\n",
    "        self.X = torch.as_tensor(X.values, dtype=torch.float, device=self.device)\n",
    "        \n",
    "        # Turn y to one-hot encoding and to a tensor\n",
    "        # one_hot_encoder = OneHotEncoder(sparse=False)\n",
    "        # y_1hot = one_hot_encoder.fit_transform(y)\n",
    "        self.y = torch.as_tensor(y.values, dtype=torch.long, device=self.device).flatten()\n",
    "        \n",
    "        self.m = self.X.shape[0]\n",
    "        \n",
    "    def __len__(self):\n",
    "        return self.m\n",
    "    \n",
    "    def __getitem__(self, index):\n",
    "        return (self.X[index], self.y[index])\n",
    "    \n",
    "    def set_input(self, new_input):\n",
    "        self.X = torch.as_tensor(new_input, dtype=torch.float, device=self.device)"
   ]
  },
  {
   "cell_type": "markdown",
   "metadata": {},
   "source": [
    "Save the data as tensors:"
   ]
  },
  {
   "cell_type": "code",
   "execution_count": 385,
   "metadata": {},
   "outputs": [],
   "source": [
    "train_dataset_torch = IrisData(X_train, y_train)\n",
    "dev_dataset_torch = IrisData(X_dev, y_dev)\n",
    "test_dataset_torch = IrisData(X_test, y_test)"
   ]
  },
  {
   "cell_type": "markdown",
   "metadata": {},
   "source": [
    "#### Check similarity between pandas DF and the tensors"
   ]
  },
  {
   "cell_type": "markdown",
   "metadata": {},
   "source": [
    "First 5 elements in the X, y train tensors:"
   ]
  },
  {
   "cell_type": "code",
   "execution_count": 392,
   "metadata": {},
   "outputs": [
    {
     "data": {
      "text/plain": [
       "(tensor([[ 0.5914, -0.7473,  0.6213,  0.7464],\n",
       "         [-1.2525,  0.9647, -1.1444, -1.3989],\n",
       "         [-1.0066, -0.0136, -1.3210, -1.3989],\n",
       "         [-0.8837,  0.7201, -1.2622, -0.9967],\n",
       "         [-0.2691, -0.7473,  0.2093,  0.0760]]),\n",
       " tensor([2, 0, 0, 0, 1]))"
      ]
     },
     "execution_count": 392,
     "metadata": {},
     "output_type": "execute_result"
    }
   ],
   "source": [
    "train_dataset_torch[0:5]"
   ]
  },
  {
   "cell_type": "markdown",
   "metadata": {},
   "source": [
    "First 5 elements of the X, y training DataFrames:"
   ]
  },
  {
   "cell_type": "code",
   "execution_count": 387,
   "metadata": {},
   "outputs": [
    {
     "data": {
      "text/html": [
       "<div>\n",
       "<style scoped>\n",
       "    .dataframe tbody tr th:only-of-type {\n",
       "        vertical-align: middle;\n",
       "    }\n",
       "\n",
       "    .dataframe tbody tr th {\n",
       "        vertical-align: top;\n",
       "    }\n",
       "\n",
       "    .dataframe thead th {\n",
       "        text-align: right;\n",
       "    }\n",
       "</style>\n",
       "<table border=\"1\" class=\"dataframe\">\n",
       "  <thead>\n",
       "    <tr style=\"text-align: right;\">\n",
       "      <th></th>\n",
       "      <th>sepal length (cm)</th>\n",
       "      <th>sepal width (cm)</th>\n",
       "      <th>petal length (cm)</th>\n",
       "      <th>petal width (cm)</th>\n",
       "    </tr>\n",
       "  </thead>\n",
       "  <tbody>\n",
       "    <tr>\n",
       "      <th>123</th>\n",
       "      <td>6.3</td>\n",
       "      <td>2.7</td>\n",
       "      <td>4.9</td>\n",
       "      <td>1.8</td>\n",
       "    </tr>\n",
       "    <tr>\n",
       "      <th>24</th>\n",
       "      <td>4.8</td>\n",
       "      <td>3.4</td>\n",
       "      <td>1.9</td>\n",
       "      <td>0.2</td>\n",
       "    </tr>\n",
       "    <tr>\n",
       "      <th>25</th>\n",
       "      <td>5.0</td>\n",
       "      <td>3.0</td>\n",
       "      <td>1.6</td>\n",
       "      <td>0.2</td>\n",
       "    </tr>\n",
       "    <tr>\n",
       "      <th>23</th>\n",
       "      <td>5.1</td>\n",
       "      <td>3.3</td>\n",
       "      <td>1.7</td>\n",
       "      <td>0.5</td>\n",
       "    </tr>\n",
       "    <tr>\n",
       "      <th>94</th>\n",
       "      <td>5.6</td>\n",
       "      <td>2.7</td>\n",
       "      <td>4.2</td>\n",
       "      <td>1.3</td>\n",
       "    </tr>\n",
       "  </tbody>\n",
       "</table>\n",
       "</div>"
      ],
      "text/plain": [
       "     sepal length (cm)  sepal width (cm)  petal length (cm)  petal width (cm)\n",
       "123                6.3               2.7                4.9               1.8\n",
       "24                 4.8               3.4                1.9               0.2\n",
       "25                 5.0               3.0                1.6               0.2\n",
       "23                 5.1               3.3                1.7               0.5\n",
       "94                 5.6               2.7                4.2               1.3"
      ]
     },
     "execution_count": 387,
     "metadata": {},
     "output_type": "execute_result"
    }
   ],
   "source": [
    "X_train.head()"
   ]
  },
  {
   "cell_type": "code",
   "execution_count": 388,
   "metadata": {},
   "outputs": [
    {
     "data": {
      "text/html": [
       "<div>\n",
       "<style scoped>\n",
       "    .dataframe tbody tr th:only-of-type {\n",
       "        vertical-align: middle;\n",
       "    }\n",
       "\n",
       "    .dataframe tbody tr th {\n",
       "        vertical-align: top;\n",
       "    }\n",
       "\n",
       "    .dataframe thead th {\n",
       "        text-align: right;\n",
       "    }\n",
       "</style>\n",
       "<table border=\"1\" class=\"dataframe\">\n",
       "  <thead>\n",
       "    <tr style=\"text-align: right;\">\n",
       "      <th></th>\n",
       "      <th>Class</th>\n",
       "    </tr>\n",
       "  </thead>\n",
       "  <tbody>\n",
       "    <tr>\n",
       "      <th>123</th>\n",
       "      <td>2</td>\n",
       "    </tr>\n",
       "    <tr>\n",
       "      <th>24</th>\n",
       "      <td>0</td>\n",
       "    </tr>\n",
       "    <tr>\n",
       "      <th>25</th>\n",
       "      <td>0</td>\n",
       "    </tr>\n",
       "    <tr>\n",
       "      <th>23</th>\n",
       "      <td>0</td>\n",
       "    </tr>\n",
       "    <tr>\n",
       "      <th>94</th>\n",
       "      <td>1</td>\n",
       "    </tr>\n",
       "  </tbody>\n",
       "</table>\n",
       "</div>"
      ],
      "text/plain": [
       "     Class\n",
       "123      2\n",
       "24       0\n",
       "25       0\n",
       "23       0\n",
       "94       1"
      ]
     },
     "execution_count": 388,
     "metadata": {},
     "output_type": "execute_result"
    }
   ],
   "source": [
    "y_train.head()"
   ]
  },
  {
   "cell_type": "markdown",
   "metadata": {},
   "source": [
    "#### Scale the inputs"
   ]
  },
  {
   "cell_type": "code",
   "execution_count": 389,
   "metadata": {},
   "outputs": [],
   "source": [
    "scaler = StandardScaler()"
   ]
  },
  {
   "cell_type": "code",
   "execution_count": 390,
   "metadata": {},
   "outputs": [],
   "source": [
    "X_train_scaled = scaler.fit_transform(train_dataset_torch.X)\n",
    "X_dev_scaled = scaler.transform(dev_dataset_torch.X) # apply the mean and std of the training to avoid data leakage\n",
    "X_test_scaled = scaler.transform(test_dataset_torch.X)"
   ]
  },
  {
   "cell_type": "markdown",
   "metadata": {},
   "source": [
    "Set the new scaled values"
   ]
  },
  {
   "cell_type": "code",
   "execution_count": 391,
   "metadata": {},
   "outputs": [],
   "source": [
    "train_dataset_torch.set_input(X_train_scaled)\n",
    "dev_dataset_torch.set_input(X_dev_scaled)\n",
    "test_dataset_torch.set_input(X_test_scaled)"
   ]
  },
  {
   "cell_type": "markdown",
   "metadata": {},
   "source": [
    "## Define the models"
   ]
  },
  {
   "cell_type": "markdown",
   "metadata": {},
   "source": [
    "#### Logistic Regression"
   ]
  },
  {
   "cell_type": "code",
   "execution_count": 393,
   "metadata": {},
   "outputs": [],
   "source": [
    "class MulticlassLogisticRegression(torch.nn.Module):\n",
    "    def __init__(self, inputSize, outputSize):\n",
    "        super(MulticlassLogisticRegression, self).__init__()\n",
    "        self.linear = torch.nn.Linear(inputSize, outputSize)\n",
    "        \n",
    "        self.loss_function = torch.nn.CrossEntropyLoss()\n",
    "        self.training_loss = []\n",
    "        self.validation_loss = []\n",
    "        \n",
    "    def forward(self, x):\n",
    "        out = self.linear(x)\n",
    "        return out\n",
    "    \n",
    "    def reset_loss_values(self):\n",
    "        self.training_loss = []\n",
    "        self.validation_loss = []"
   ]
  },
  {
   "cell_type": "markdown",
   "metadata": {},
   "source": [
    "#### Neural net - 1 Hidden layer"
   ]
  },
  {
   "cell_type": "code",
   "execution_count": null,
   "metadata": {},
   "outputs": [],
   "source": []
  },
  {
   "cell_type": "markdown",
   "metadata": {},
   "source": [
    "#### Deep neural net - 3 Hidden layers"
   ]
  },
  {
   "cell_type": "code",
   "execution_count": null,
   "metadata": {},
   "outputs": [],
   "source": []
  },
  {
   "cell_type": "markdown",
   "metadata": {},
   "source": [
    "## Train and Evaluate"
   ]
  },
  {
   "cell_type": "code",
   "execution_count": 419,
   "metadata": {},
   "outputs": [],
   "source": [
    "def train_model(train_dataset,\n",
    "                dev_dataset,\n",
    "                model,\n",
    "                defined_optimizer,\n",
    "                loss_function,\n",
    "                epochs,\n",
    "                lr,\n",
    "                print_loss_values=False,\n",
    "                print_loss_graph=False):\n",
    "    \n",
    "    \n",
    "    if defined_optimizer == \"sgd\" or defined_optimizer == \"SGD\":\n",
    "        optimizer = torch.optim.SGD(params=model.parameters(), lr=lr)\n",
    "    elif defined_optimizer == \"Adam\" or defined_optimizer == \"adam\":\n",
    "        optimizer = torch.optim.Adam(params=model.parameters(), lr=lr)\n",
    "    elif defined_optimizer == \"Adagrad\" or defined_optimizer == \"adagrad\":\n",
    "        optimizer = torch.optim.Adagrad(params=model.parameters(), lr=lr, weight_decay=1e-4)\n",
    "    \n",
    "    X_train_torch = train_dataset.X\n",
    "    y_train_torch = train_dataset.y\n",
    "    X_dev_torch = dev_dataset.X\n",
    "    y_dev_torch = dev_dataset.y\n",
    "    \n",
    "    for epoch in range(epochs):\n",
    "        \n",
    "        # Training Part - Start\n",
    "        \n",
    "        model.train()\n",
    "    \n",
    "        optimizer.zero_grad()\n",
    "\n",
    "        train_outputs = model(X_train_torch)\n",
    "\n",
    "        train_loss = loss_function(train_outputs, y_train_torch)\n",
    "\n",
    "        train_loss.backward()\n",
    "\n",
    "        optimizer.step()\n",
    "\n",
    "        if print_loss_values:\n",
    "            print(\"In epoch {}, loss: {}\".format(epoch, train_loss.item()))\n",
    "\n",
    "        model.training_loss.append(train_loss.item())\n",
    "        \n",
    "        # Training Part - End\n",
    "        \n",
    "        # Evaluation Part - Start\n",
    "        \n",
    "        model.eval()\n",
    "        \n",
    "        dev_outputs = model(X_dev_torch)\n",
    "        \n",
    "        dev_loss = loss_function(dev_outputs, y_dev_torch)\n",
    "        \n",
    "        model.validation_loss.append(dev_loss.item())\n",
    "        \n",
    "        # Evaluation Part - End\n",
    "        \n",
    "    if print_loss_graph:\n",
    "        plot_loss(train_loss=model.training_loss, dev_loss=model.validation_loss)"
   ]
  },
  {
   "cell_type": "code",
   "execution_count": 506,
   "metadata": {},
   "outputs": [],
   "source": [
    "def calculate_accuracy(model, data, labels):\n",
    "    outputs = model(data)\n",
    "    _, predictions = torch.max(outputs, dim=1)\n",
    "    total_labels = labels.size(0)\n",
    "    total_correct_predictions = (predictions == labels).sum().item()\n",
    "    return (total_correct_predictions / total_labels) * 100"
   ]
  },
  {
   "cell_type": "code",
   "execution_count": 507,
   "metadata": {},
   "outputs": [],
   "source": [
    "epochs = 30000"
   ]
  },
  {
   "cell_type": "code",
   "execution_count": 508,
   "metadata": {},
   "outputs": [],
   "source": [
    "logistic_model_sgd = MulticlassLogisticRegression(train_dataset_torch.X.shape[1], 3) # in,out shape\n",
    "\n",
    "learning_rate = 1e-3"
   ]
  },
  {
   "cell_type": "code",
   "execution_count": 509,
   "metadata": {},
   "outputs": [
    {
     "data": {
      "image/png": "[encoded data removed]",
      "text/plain": [
       "<Figure size 432x288 with 1 Axes>"
      ]
     },
     "metadata": {
      "needs_background": "light"
     },
     "output_type": "display_data"
    }
   ],
   "source": [
    "train_model(train_dataset=train_dataset_torch,\n",
    "            dev_dataset=dev_dataset_torch,\n",
    "            model=logistic_model_sgd,\n",
    "            defined_optimizer=\"sgd\",\n",
    "            loss_function=logistic_model_sgd.loss_function,\n",
    "            epochs=epochs,\n",
    "            lr=learning_rate,\n",
    "            print_loss_values=False,\n",
    "            print_loss_graph=True)"
   ]
  },
  {
   "cell_type": "code",
   "execution_count": 510,
   "metadata": {},
   "outputs": [
    {
     "data": {
      "text/plain": [
       "96.66666666666667"
      ]
     },
     "execution_count": 510,
     "metadata": {},
     "output_type": "execute_result"
    }
   ],
   "source": [
    "calculate_accuracy(model=logistic_model_sgd, data=dev_dataset_torch.X, labels=dev_dataset_torch.y)"
   ]
  },
  {
   "cell_type": "code",
   "execution_count": null,
   "metadata": {},
   "outputs": [],
   "source": []
  },
  {
   "cell_type": "markdown",
   "metadata": {},
   "source": [
    "## ----------------"
   ]
  },
  {
   "cell_type": "markdown",
   "metadata": {},
   "source": [
    "Create a copy of the data to explore Feature Engineering:"
   ]
  },
  {
   "cell_type": "code",
   "execution_count": 160,
   "metadata": {},
   "outputs": [
    {
     "data": {
      "text/html": [
       "<style  type=\"text/css\" >\n",
       "#T_babfb024_0000_11eb_92e8_e069959a5dd3row0_col0,#T_babfb024_0000_11eb_92e8_e069959a5dd3row0_col2,#T_babfb024_0000_11eb_92e8_e069959a5dd3row0_col4,#T_babfb024_0000_11eb_92e8_e069959a5dd3row0_col6,#T_babfb024_0000_11eb_92e8_e069959a5dd3row1_col1,#T_babfb024_0000_11eb_92e8_e069959a5dd3row1_col5,#T_babfb024_0000_11eb_92e8_e069959a5dd3row2_col0,#T_babfb024_0000_11eb_92e8_e069959a5dd3row2_col2,#T_babfb024_0000_11eb_92e8_e069959a5dd3row2_col3,#T_babfb024_0000_11eb_92e8_e069959a5dd3row2_col4,#T_babfb024_0000_11eb_92e8_e069959a5dd3row2_col6,#T_babfb024_0000_11eb_92e8_e069959a5dd3row2_col7,#T_babfb024_0000_11eb_92e8_e069959a5dd3row3_col2,#T_babfb024_0000_11eb_92e8_e069959a5dd3row3_col3,#T_babfb024_0000_11eb_92e8_e069959a5dd3row3_col6,#T_babfb024_0000_11eb_92e8_e069959a5dd3row3_col7,#T_babfb024_0000_11eb_92e8_e069959a5dd3row4_col0,#T_babfb024_0000_11eb_92e8_e069959a5dd3row4_col2,#T_babfb024_0000_11eb_92e8_e069959a5dd3row4_col4,#T_babfb024_0000_11eb_92e8_e069959a5dd3row4_col6,#T_babfb024_0000_11eb_92e8_e069959a5dd3row5_col1,#T_babfb024_0000_11eb_92e8_e069959a5dd3row5_col5,#T_babfb024_0000_11eb_92e8_e069959a5dd3row6_col0,#T_babfb024_0000_11eb_92e8_e069959a5dd3row6_col2,#T_babfb024_0000_11eb_92e8_e069959a5dd3row6_col3,#T_babfb024_0000_11eb_92e8_e069959a5dd3row6_col4,#T_babfb024_0000_11eb_92e8_e069959a5dd3row6_col6,#T_babfb024_0000_11eb_92e8_e069959a5dd3row6_col7,#T_babfb024_0000_11eb_92e8_e069959a5dd3row7_col2,#T_babfb024_0000_11eb_92e8_e069959a5dd3row7_col3,#T_babfb024_0000_11eb_92e8_e069959a5dd3row7_col6,#T_babfb024_0000_11eb_92e8_e069959a5dd3row7_col7{\n",
       "            background-color:  #ff4d4d;\n",
       "        }#T_babfb024_0000_11eb_92e8_e069959a5dd3row0_col1,#T_babfb024_0000_11eb_92e8_e069959a5dd3row0_col5,#T_babfb024_0000_11eb_92e8_e069959a5dd3row1_col0,#T_babfb024_0000_11eb_92e8_e069959a5dd3row1_col4,#T_babfb024_0000_11eb_92e8_e069959a5dd3row4_col1,#T_babfb024_0000_11eb_92e8_e069959a5dd3row4_col5,#T_babfb024_0000_11eb_92e8_e069959a5dd3row5_col0,#T_babfb024_0000_11eb_92e8_e069959a5dd3row5_col4{\n",
       "            background-color:  #66a3ff;\n",
       "        }#T_babfb024_0000_11eb_92e8_e069959a5dd3row0_col3,#T_babfb024_0000_11eb_92e8_e069959a5dd3row0_col7,#T_babfb024_0000_11eb_92e8_e069959a5dd3row3_col0,#T_babfb024_0000_11eb_92e8_e069959a5dd3row3_col4,#T_babfb024_0000_11eb_92e8_e069959a5dd3row4_col3,#T_babfb024_0000_11eb_92e8_e069959a5dd3row4_col7,#T_babfb024_0000_11eb_92e8_e069959a5dd3row7_col0,#T_babfb024_0000_11eb_92e8_e069959a5dd3row7_col4{\n",
       "            background-color:  #ffb3b3;\n",
       "        }#T_babfb024_0000_11eb_92e8_e069959a5dd3row1_col2,#T_babfb024_0000_11eb_92e8_e069959a5dd3row1_col3,#T_babfb024_0000_11eb_92e8_e069959a5dd3row1_col6,#T_babfb024_0000_11eb_92e8_e069959a5dd3row1_col7,#T_babfb024_0000_11eb_92e8_e069959a5dd3row2_col1,#T_babfb024_0000_11eb_92e8_e069959a5dd3row2_col5,#T_babfb024_0000_11eb_92e8_e069959a5dd3row3_col1,#T_babfb024_0000_11eb_92e8_e069959a5dd3row3_col5,#T_babfb024_0000_11eb_92e8_e069959a5dd3row5_col2,#T_babfb024_0000_11eb_92e8_e069959a5dd3row5_col3,#T_babfb024_0000_11eb_92e8_e069959a5dd3row5_col6,#T_babfb024_0000_11eb_92e8_e069959a5dd3row5_col7,#T_babfb024_0000_11eb_92e8_e069959a5dd3row6_col1,#T_babfb024_0000_11eb_92e8_e069959a5dd3row6_col5,#T_babfb024_0000_11eb_92e8_e069959a5dd3row7_col1,#T_babfb024_0000_11eb_92e8_e069959a5dd3row7_col5{\n",
       "            background-color:  #99c2ff;\n",
       "        }</style><table id=\"T_babfb024_0000_11eb_92e8_e069959a5dd3\" ><thead>    <tr>        <th class=\"blank level0\" ></th>        <th class=\"col_heading level0 col0\" >sepal length (cm)</th>        <th class=\"col_heading level0 col1\" >sepal width (cm)</th>        <th class=\"col_heading level0 col2\" >petal length (cm)</th>        <th class=\"col_heading level0 col3\" >petal width (cm)</th>        <th class=\"col_heading level0 col4\" >s_l sqrt</th>        <th class=\"col_heading level0 col5\" >s_w sqrt</th>        <th class=\"col_heading level0 col6\" >p_l sqrt</th>        <th class=\"col_heading level0 col7\" >p_w sqrt</th>    </tr></thead><tbody>\n",
       "                <tr>\n",
       "                        <th id=\"T_babfb024_0000_11eb_92e8_e069959a5dd3level0_row0\" class=\"row_heading level0 row0\" >sepal length (cm)</th>\n",
       "                        <td id=\"T_babfb024_0000_11eb_92e8_e069959a5dd3row0_col0\" class=\"data row0 col0\" >1.000000</td>\n",
       "                        <td id=\"T_babfb024_0000_11eb_92e8_e069959a5dd3row0_col1\" class=\"data row0 col1\" >-0.034054</td>\n",
       "                        <td id=\"T_babfb024_0000_11eb_92e8_e069959a5dd3row0_col2\" class=\"data row0 col2\" >0.860946</td>\n",
       "                        <td id=\"T_babfb024_0000_11eb_92e8_e069959a5dd3row0_col3\" class=\"data row0 col3\" >0.789994</td>\n",
       "                        <td id=\"T_babfb024_0000_11eb_92e8_e069959a5dd3row0_col4\" class=\"data row0 col4\" >0.999249</td>\n",
       "                        <td id=\"T_babfb024_0000_11eb_92e8_e069959a5dd3row0_col5\" class=\"data row0 col5\" >-0.025113</td>\n",
       "                        <td id=\"T_babfb024_0000_11eb_92e8_e069959a5dd3row0_col6\" class=\"data row0 col6\" >0.840202</td>\n",
       "                        <td id=\"T_babfb024_0000_11eb_92e8_e069959a5dd3row0_col7\" class=\"data row0 col7\" >0.786181</td>\n",
       "            </tr>\n",
       "            <tr>\n",
       "                        <th id=\"T_babfb024_0000_11eb_92e8_e069959a5dd3level0_row1\" class=\"row_heading level0 row1\" >sepal width (cm)</th>\n",
       "                        <td id=\"T_babfb024_0000_11eb_92e8_e069959a5dd3row1_col0\" class=\"data row1 col0\" >-0.034054</td>\n",
       "                        <td id=\"T_babfb024_0000_11eb_92e8_e069959a5dd3row1_col1\" class=\"data row1 col1\" >1.000000</td>\n",
       "                        <td id=\"T_babfb024_0000_11eb_92e8_e069959a5dd3row1_col2\" class=\"data row1 col2\" >-0.341662</td>\n",
       "                        <td id=\"T_babfb024_0000_11eb_92e8_e069959a5dd3row1_col3\" class=\"data row1 col3\" >-0.279155</td>\n",
       "                        <td id=\"T_babfb024_0000_11eb_92e8_e069959a5dd3row1_col4\" class=\"data row1 col4\" >-0.040292</td>\n",
       "                        <td id=\"T_babfb024_0000_11eb_92e8_e069959a5dd3row1_col5\" class=\"data row1 col5\" >0.998873</td>\n",
       "                        <td id=\"T_babfb024_0000_11eb_92e8_e069959a5dd3row1_col6\" class=\"data row1 col6\" >-0.383780</td>\n",
       "                        <td id=\"T_babfb024_0000_11eb_92e8_e069959a5dd3row1_col7\" class=\"data row1 col7\" >-0.357493</td>\n",
       "            </tr>\n",
       "            <tr>\n",
       "                        <th id=\"T_babfb024_0000_11eb_92e8_e069959a5dd3level0_row2\" class=\"row_heading level0 row2\" >petal length (cm)</th>\n",
       "                        <td id=\"T_babfb024_0000_11eb_92e8_e069959a5dd3row2_col0\" class=\"data row2 col0\" >0.860946</td>\n",
       "                        <td id=\"T_babfb024_0000_11eb_92e8_e069959a5dd3row2_col1\" class=\"data row2 col1\" >-0.341662</td>\n",
       "                        <td id=\"T_babfb024_0000_11eb_92e8_e069959a5dd3row2_col2\" class=\"data row2 col2\" >1.000000</td>\n",
       "                        <td id=\"T_babfb024_0000_11eb_92e8_e069959a5dd3row2_col3\" class=\"data row2 col3\" >0.958200</td>\n",
       "                        <td id=\"T_babfb024_0000_11eb_92e8_e069959a5dd3row2_col4\" class=\"data row2 col4\" >0.866129</td>\n",
       "                        <td id=\"T_babfb024_0000_11eb_92e8_e069959a5dd3row2_col5\" class=\"data row2 col5\" >-0.329486</td>\n",
       "                        <td id=\"T_babfb024_0000_11eb_92e8_e069959a5dd3row2_col6\" class=\"data row2 col6\" >0.996443</td>\n",
       "                        <td id=\"T_babfb024_0000_11eb_92e8_e069959a5dd3row2_col7\" class=\"data row2 col7\" >0.967688</td>\n",
       "            </tr>\n",
       "            <tr>\n",
       "                        <th id=\"T_babfb024_0000_11eb_92e8_e069959a5dd3level0_row3\" class=\"row_heading level0 row3\" >petal width (cm)</th>\n",
       "                        <td id=\"T_babfb024_0000_11eb_92e8_e069959a5dd3row3_col0\" class=\"data row3 col0\" >0.789994</td>\n",
       "                        <td id=\"T_babfb024_0000_11eb_92e8_e069959a5dd3row3_col1\" class=\"data row3 col1\" >-0.279155</td>\n",
       "                        <td id=\"T_babfb024_0000_11eb_92e8_e069959a5dd3row3_col2\" class=\"data row3 col2\" >0.958200</td>\n",
       "                        <td id=\"T_babfb024_0000_11eb_92e8_e069959a5dd3row3_col3\" class=\"data row3 col3\" >1.000000</td>\n",
       "                        <td id=\"T_babfb024_0000_11eb_92e8_e069959a5dd3row3_col4\" class=\"data row3 col4\" >0.796552</td>\n",
       "                        <td id=\"T_babfb024_0000_11eb_92e8_e069959a5dd3row3_col5\" class=\"data row3 col5\" >-0.266131</td>\n",
       "                        <td id=\"T_babfb024_0000_11eb_92e8_e069959a5dd3row3_col6\" class=\"data row3 col6\" >0.953710</td>\n",
       "                        <td id=\"T_babfb024_0000_11eb_92e8_e069959a5dd3row3_col7\" class=\"data row3 col7\" >0.988451</td>\n",
       "            </tr>\n",
       "            <tr>\n",
       "                        <th id=\"T_babfb024_0000_11eb_92e8_e069959a5dd3level0_row4\" class=\"row_heading level0 row4\" >s_l sqrt</th>\n",
       "                        <td id=\"T_babfb024_0000_11eb_92e8_e069959a5dd3row4_col0\" class=\"data row4 col0\" >0.999249</td>\n",
       "                        <td id=\"T_babfb024_0000_11eb_92e8_e069959a5dd3row4_col1\" class=\"data row4 col1\" >-0.040292</td>\n",
       "                        <td id=\"T_babfb024_0000_11eb_92e8_e069959a5dd3row4_col2\" class=\"data row4 col2\" >0.866129</td>\n",
       "                        <td id=\"T_babfb024_0000_11eb_92e8_e069959a5dd3row4_col3\" class=\"data row4 col3\" >0.796552</td>\n",
       "                        <td id=\"T_babfb024_0000_11eb_92e8_e069959a5dd3row4_col4\" class=\"data row4 col4\" >1.000000</td>\n",
       "                        <td id=\"T_babfb024_0000_11eb_92e8_e069959a5dd3row4_col5\" class=\"data row4 col5\" >-0.031648</td>\n",
       "                        <td id=\"T_babfb024_0000_11eb_92e8_e069959a5dd3row4_col6\" class=\"data row4 col6\" >0.847446</td>\n",
       "                        <td id=\"T_babfb024_0000_11eb_92e8_e069959a5dd3row4_col7\" class=\"data row4 col7\" >0.794939</td>\n",
       "            </tr>\n",
       "            <tr>\n",
       "                        <th id=\"T_babfb024_0000_11eb_92e8_e069959a5dd3level0_row5\" class=\"row_heading level0 row5\" >s_w sqrt</th>\n",
       "                        <td id=\"T_babfb024_0000_11eb_92e8_e069959a5dd3row5_col0\" class=\"data row5 col0\" >-0.025113</td>\n",
       "                        <td id=\"T_babfb024_0000_11eb_92e8_e069959a5dd3row5_col1\" class=\"data row5 col1\" >0.998873</td>\n",
       "                        <td id=\"T_babfb024_0000_11eb_92e8_e069959a5dd3row5_col2\" class=\"data row5 col2\" >-0.329486</td>\n",
       "                        <td id=\"T_babfb024_0000_11eb_92e8_e069959a5dd3row5_col3\" class=\"data row5 col3\" >-0.266131</td>\n",
       "                        <td id=\"T_babfb024_0000_11eb_92e8_e069959a5dd3row5_col4\" class=\"data row5 col4\" >-0.031648</td>\n",
       "                        <td id=\"T_babfb024_0000_11eb_92e8_e069959a5dd3row5_col5\" class=\"data row5 col5\" >1.000000</td>\n",
       "                        <td id=\"T_babfb024_0000_11eb_92e8_e069959a5dd3row5_col6\" class=\"data row5 col6\" >-0.372087</td>\n",
       "                        <td id=\"T_babfb024_0000_11eb_92e8_e069959a5dd3row5_col7\" class=\"data row5 col7\" >-0.345759</td>\n",
       "            </tr>\n",
       "            <tr>\n",
       "                        <th id=\"T_babfb024_0000_11eb_92e8_e069959a5dd3level0_row6\" class=\"row_heading level0 row6\" >p_l sqrt</th>\n",
       "                        <td id=\"T_babfb024_0000_11eb_92e8_e069959a5dd3row6_col0\" class=\"data row6 col0\" >0.840202</td>\n",
       "                        <td id=\"T_babfb024_0000_11eb_92e8_e069959a5dd3row6_col1\" class=\"data row6 col1\" >-0.383780</td>\n",
       "                        <td id=\"T_babfb024_0000_11eb_92e8_e069959a5dd3row6_col2\" class=\"data row6 col2\" >0.996443</td>\n",
       "                        <td id=\"T_babfb024_0000_11eb_92e8_e069959a5dd3row6_col3\" class=\"data row6 col3\" >0.953710</td>\n",
       "                        <td id=\"T_babfb024_0000_11eb_92e8_e069959a5dd3row6_col4\" class=\"data row6 col4\" >0.847446</td>\n",
       "                        <td id=\"T_babfb024_0000_11eb_92e8_e069959a5dd3row6_col5\" class=\"data row6 col5\" >-0.372087</td>\n",
       "                        <td id=\"T_babfb024_0000_11eb_92e8_e069959a5dd3row6_col6\" class=\"data row6 col6\" >1.000000</td>\n",
       "                        <td id=\"T_babfb024_0000_11eb_92e8_e069959a5dd3row6_col7\" class=\"data row6 col7\" >0.972595</td>\n",
       "            </tr>\n",
       "            <tr>\n",
       "                        <th id=\"T_babfb024_0000_11eb_92e8_e069959a5dd3level0_row7\" class=\"row_heading level0 row7\" >p_w sqrt</th>\n",
       "                        <td id=\"T_babfb024_0000_11eb_92e8_e069959a5dd3row7_col0\" class=\"data row7 col0\" >0.786181</td>\n",
       "                        <td id=\"T_babfb024_0000_11eb_92e8_e069959a5dd3row7_col1\" class=\"data row7 col1\" >-0.357493</td>\n",
       "                        <td id=\"T_babfb024_0000_11eb_92e8_e069959a5dd3row7_col2\" class=\"data row7 col2\" >0.967688</td>\n",
       "                        <td id=\"T_babfb024_0000_11eb_92e8_e069959a5dd3row7_col3\" class=\"data row7 col3\" >0.988451</td>\n",
       "                        <td id=\"T_babfb024_0000_11eb_92e8_e069959a5dd3row7_col4\" class=\"data row7 col4\" >0.794939</td>\n",
       "                        <td id=\"T_babfb024_0000_11eb_92e8_e069959a5dd3row7_col5\" class=\"data row7 col5\" >-0.345759</td>\n",
       "                        <td id=\"T_babfb024_0000_11eb_92e8_e069959a5dd3row7_col6\" class=\"data row7 col6\" >0.972595</td>\n",
       "                        <td id=\"T_babfb024_0000_11eb_92e8_e069959a5dd3row7_col7\" class=\"data row7 col7\" >1.000000</td>\n",
       "            </tr>\n",
       "    </tbody></table>"
      ],
      "text/plain": [
       "<pandas.io.formats.style.Styler at 0x179b0648>"
      ]
     },
     "execution_count": 160,
     "metadata": {},
     "output_type": "execute_result"
    }
   ],
   "source": [
    "X_train_expended = X_train.copy()\n",
    "\n",
    "X_train_expended[\"s_l sqrt\"] = np.sqrt(X_train_expended[\"sepal length (cm)\"])\n",
    "X_train_expended[\"s_w sqrt\"] = np.sqrt(X_train_expended[\"sepal width (cm)\"])\n",
    "X_train_expended[\"p_l sqrt\"] = np.sqrt(X_train_expended[\"petal length (cm)\"])\n",
    "X_train_expended[\"p_w sqrt\"] = np.sqrt(X_train_expended[\"petal width (cm)\"])\n",
    "X_train_expended.head()\n",
    "X_train_expended.corr().style.applymap(color_corr_matrix)"
   ]
  },
  {
   "cell_type": "code",
   "execution_count": 162,
   "metadata": {},
   "outputs": [
    {
     "data": {
      "image/png": "[encoded data removed]",
      "text/plain": [
       "<Figure size 432x288 with 1 Axes>"
      ]
     },
     "metadata": {
      "needs_background": "light"
     },
     "output_type": "display_data"
    }
   ],
   "source": [
    "plot_scatter_iris(X_train_expended[\"sepal length (cm)\"], X_train_expended[\"sepal width (cm)\"], y_train[\"Class\"], \"sepal length\", \"sepal width\")"
   ]
  },
  {
   "cell_type": "markdown",
   "metadata": {},
   "source": [
    "## ------------------"
   ]
  }
 ],
 "metadata": {
  "kernelspec": {
   "display_name": "Python 3",
   "language": "python",
   "name": "python3"
  },
  "language_info": {
   "codemirror_mode": {
    "name": "ipython",
    "version": 3
   },
   "file_extension": ".py",
   "mimetype": "text/x-python",
   "name": "python",
   "nbconvert_exporter": "python",
   "pygments_lexer": "ipython3",
   "version": "3.7.9"
  }
 },
 "nbformat": 4,
 "nbformat_minor": 4
}
