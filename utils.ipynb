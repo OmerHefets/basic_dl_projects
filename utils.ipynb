{
 "cells": [
  {
   "cell_type": "markdown",
   "metadata": {},
   "source": [
    "# Util Functions"
   ]
  },
  {
   "cell_type": "code",
   "execution_count": 50,
   "metadata": {},
   "outputs": [],
   "source": [
    "%matplotlib inline\n",
    "import matplotlib.pyplot as plt\n",
    "import numpy as np"
   ]
  },
  {
   "cell_type": "code",
   "execution_count": 51,
   "metadata": {},
   "outputs": [],
   "source": [
    "def color_corr_matrix(value):\n",
    "    if value > 0.8 or value < -0.8:\n",
    "        color = \"#ff4d4d\"\n",
    "    elif value > 0.6 or value < -0.6:\n",
    "        color = \"#ffb3b3\"\n",
    "    elif value > 0.4 or value < -0.4:\n",
    "        color = \"#cce0ff\"\n",
    "    elif value > 0.2 or value < -0.2:\n",
    "        color = \"#99c2ff\"\n",
    "    else:\n",
    "        color = \"#66a3ff\"\n",
    "    return \"background-color: %s\" % color"
   ]
  },
  {
   "cell_type": "code",
   "execution_count": 52,
   "metadata": {},
   "outputs": [],
   "source": [
    "def plot_loss(train_loss, dev_loss):\n",
    "    plt.plot(range(len(train_loss)), train_loss, label=\"train_error\")\n",
    "    plt.plot(range(len(dev_loss)), dev_loss, label=\"dev_error\")\n",
    "    plt.xlabel(\"epoch\")\n",
    "    plt.ylabel(\"loss\")\n",
    "    plt.legend()\n",
    "    plt.show()"
   ]
  },
  {
   "cell_type": "code",
   "execution_count": 54,
   "metadata": {},
   "outputs": [],
   "source": [
    "def plot_scatter_iris(x, y, classes, xlabel, ylabel):\n",
    "    scatter = plt.scatter(x, y, c=classes)\n",
    "    plt.xlabel(xlabel)\n",
    "    plt.ylabel(ylabel)\n",
    "    plt.legend(*scatter.legend_elements(), title=\"classes\")"
   ]
  },
  {
   "cell_type": "code",
   "execution_count": null,
   "metadata": {},
   "outputs": [],
   "source": []
  }
 ],
 "metadata": {
  "kernelspec": {
   "display_name": "Python 3",
   "language": "python",
   "name": "python3"
  },
  "language_info": {
   "codemirror_mode": {
    "name": "ipython",
    "version": 3
   },
   "file_extension": ".py",
   "mimetype": "text/x-python",
   "name": "python",
   "nbconvert_exporter": "python",
   "pygments_lexer": "ipython3",
   "version": "3.7.9"
  }
 },
 "nbformat": 4,
 "nbformat_minor": 4
}
